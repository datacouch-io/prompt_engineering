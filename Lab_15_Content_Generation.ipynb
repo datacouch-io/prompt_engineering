{
  "nbformat": 4,
  "nbformat_minor": 0,
  "metadata": {
    "colab": {
      "provenance": []
    },
    "kernelspec": {
      "name": "python3",
      "display_name": "Python 3"
    },
    "language_info": {
      "name": "python"
    }
  },
  "cells": [
    {
      "cell_type": "markdown",
      "source": [
        "# **Lab 15: Content Generation with OpenAI API**\n",
        "\n",
        "Welcome to Lab 15, where we'll explore the exciting world of content generation using the OpenAI API. This lab is designed to help you understand how to leverage AI for creating various types of content, such as blog posts, emails, and social media posts. We'll also dive into more advanced tasks by handling creative content generation with specific constraints, like word count or tone.\n",
        "\n",
        "By the end of this lab, you'll have hands-on experience in:\n",
        "\n",
        "\n",
        "\n",
        "1.   **Generating Specific Content Types:** Learn how to create content tailored for\n",
        "blogs, emails, and social media using customized prompts.\n",
        "2.   **Handling Creative Tasks with Constraints:** Understand how to guide AI to generate content within specific guidelines, such as tone, style, and word count.\n",
        "\n",
        "\n",
        "\n",
        "\n",
        "This lab assumes that you have a basic understanding of Python programming and some familiarity with AI concepts. If you are new to the OpenAI API, don't worry. We'll walk you through everything step by step."
      ],
      "metadata": {
        "id": "JjWsIituyIgT"
      }
    },
    {
      "cell_type": "markdown",
      "source": [
        "# **Step 1: Setting Up the Environment**\n",
        "In this step, we'll configure our environment to interact with Azure OpenAI. We will retrieve the necessary configurations, such as the API key and endpoint, from environment variables. This is a secure and flexible way to manage sensitive information.\n"
      ],
      "metadata": {
        "id": "2_4WUCEZyd0l"
      }
    },
    {
      "cell_type": "code",
      "source": [
        "!pip install openai"
      ],
      "metadata": {
        "id": "75ZTL8QXyY4v"
      },
      "execution_count": null,
      "outputs": []
    },
    {
      "cell_type": "markdown",
      "source": [
        "Next, we import the OpenAI library and set up the API key. Your API key acts as a password, allowing you to access the powerful language models provided by OpenAI. Remember to keep this key secure.\n",
        "\n",
        "Also make sure to replace `\"your-api-key-here\"` with your actual API key."
      ],
      "metadata": {
        "id": "78Y_YoIHy2TQ"
      }
    },
    {
      "cell_type": "code",
      "source": [
        "import openai\n",
        "\n",
        "# Set up your OpenAI API key\n",
        "openai.api_key = \"your-api-key-here\"\n"
      ],
      "metadata": {
        "id": "JLBsWVUzy4hQ"
      },
      "execution_count": null,
      "outputs": []
    },
    {
      "cell_type": "markdown",
      "source": [
        "# **Step 2: Generating Specific Content Types**\n",
        "In this step, we'll create and run functions that generate different types of content using OpenAI's language models. We'll focus on three specific types: blog posts, emails, and social media posts.\n",
        "\n",
        "\n"
      ],
      "metadata": {
        "id": "rxX2rAPoy96k"
      }
    },
    {
      "cell_type": "markdown",
      "source": [
        "## 2.1 Blog Post Generation\n",
        "We'll begin with generating a blog post. Blogs are typically longer-form content that provides detailed information on a specific topic. We'll generate a blog post based on a topic, tone, and desired length.\n"
      ],
      "metadata": {
        "id": "AO3pjNaXzLyY"
      }
    },
    {
      "cell_type": "code",
      "source": [
        "def generate_blog_post(topic, tone=\"informative\", length=\"500 words\"):\n",
        "    # Create the prompt to instruct the AI on what type of content to generate\n",
        "    prompt = f\"Write a {length} blog post about {topic} in a {tone} tone.\"\n",
        "\n",
        "    # Call the OpenAI API with the prompt\n",
        "    response = openai.Completion.create(\n",
        "        engine=\"gpt-4\",  # Specify the language model\n",
        "        prompt=prompt,  # Pass the prompt to the model\n",
        "        max_tokens=500,  # Limit the response length\n",
        "        n=1,  # Generate a single response\n",
        "        stop=None,  # Don't stop the generation prematurely\n",
        "        temperature=0.7  # Control creativity (0.7 is moderately creative)\n",
        "    )\n",
        "\n",
        "    # Extract the generated blog post from the response\n",
        "    blog_post = response.choices[0].text.strip()\n",
        "    return blog_post\n",
        "\n",
        "# Example usage\n",
        "topic = \"The Importance of Mental Health\"\n",
        "print(generate_blog_post(topic))\n"
      ],
      "metadata": {
        "id": "9iIKOhCxzB_x"
      },
      "execution_count": null,
      "outputs": []
    },
    {
      "cell_type": "markdown",
      "source": [
        "### **Explanation of the Code**\n",
        "- **Function Purpose:** The `generate_blog_post` function is designed to create a blog post based on a specific topic, tone, and length.\n",
        "- **Prompt Creation:** The prompt is constructed using the inputs (`topic`, `tone`, `length`). This prompt is crucial as it tells the AI what you want it to generate.\n",
        "- **API Call:** The `openai.Completion.create` function sends the prompt to the OpenAI model. The `engine` parameter specifies which model to use (`gpt-4` is one of the most capable models for text generation).\n",
        "- **Max Tokens:** `max_tokens` limits the length of the generated content. Here, it's set to 500 tokens, which roughly equates to 500 words.\n",
        "- **Temperature:** The `temperature` parameter controls the randomness of the output. A temperature of 0.7 provides a balance between creativity and coherence.\n",
        "- **Response Extraction:** The model's response is extracted and cleaned up (removing any extra whitespace) before being returned as the final blog post.\n"
      ],
      "metadata": {
        "id": "7ffGsYRH4mAx"
      }
    },
    {
      "cell_type": "markdown",
      "source": [
        "## 2.2 Email Generation\n",
        "Emails are another common form of written communication, often requiring a formal tone. We'll create a function that generates an email based on the recipient, subject, and key points to cover.\n"
      ],
      "metadata": {
        "id": "3fPY1cnXzFyw"
      }
    },
    {
      "cell_type": "code",
      "source": [
        "def generate_email(recipient, subject, content_points):\n",
        "    # Create the prompt for the email generation\n",
        "    prompt = f\"Write a formal email to {recipient} with the subject '{subject}'. The email should cover the following points: {', '.join(content_points)}.\"\n",
        "\n",
        "    # Call the OpenAI API with the prompt\n",
        "    response = openai.Completion.create(\n",
        "        engine=\"gpt-4\",  # Specify the language model\n",
        "        prompt=prompt,  # Pass the prompt to the model\n",
        "        max_tokens=200,  # Limit the response length\n",
        "        n=1,  # Generate a single response\n",
        "        stop=None,  # Don't stop the generation prematurely\n",
        "        temperature=0.5  # Control creativity (0.5 is more structured)\n",
        "    )\n",
        "\n",
        "    # Extract the generated email from the response\n",
        "    email = response.choices[0].text.strip()\n",
        "    return email\n",
        "\n",
        "# Example usage\n",
        "recipient = \"John Doe\"\n",
        "subject = \"Meeting Follow-Up\"\n",
        "content_points = [\"Thank you for the meeting\", \"Summary of key points\", \"Next steps\"]\n",
        "print(generate_email(recipient, subject, content_points))\n"
      ],
      "metadata": {
        "id": "Nk2brrA2zGrz"
      },
      "execution_count": null,
      "outputs": []
    },
    {
      "cell_type": "markdown",
      "source": [
        "### **Explanation of the Code**\n",
        "- **Function Purpose:** The `generate_email` function creates a formal email based on the provided inputs, including the recipient, subject, and key content points.\n",
        "- **Prompt Creation:** The prompt is carefully constructed to instruct the AI to generate a formal email. The key content points are included in the prompt to ensure the email covers all necessary information.\n",
        "- **API Call:** The API call works similarly to the blog post function but with a lower `max_tokens` value since emails are typically shorter.\n",
        "- **Temperature:** The temperature is set to 0.5, which ensures the output is more structured and formal, suitable for email communication.\n",
        "- **Response Extraction:** The response is extracted and cleaned up before being returned as the final email.\n"
      ],
      "metadata": {
        "id": "BuDyMrdT4zIR"
      }
    },
    {
      "cell_type": "markdown",
      "source": [
        "## 2.3 Social Media Post Generation\n",
        "Social media posts require brevity and often need to be catchy to capture attention quickly. We'll create a function to generate a social media post that promotes a product.\n"
      ],
      "metadata": {
        "id": "GA8d8cIBzPMM"
      }
    },
    {
      "cell_type": "code",
      "source": [
        "def generate_social_media_post(product, platform=\"Twitter\"):\n",
        "    # Create the prompt for the social media post generation\n",
        "    prompt = f\"Write a catchy {platform} post to promote the following product: {product}. Make it engaging and include a call-to-action.\"\n",
        "\n",
        "    # Call the OpenAI API with the prompt\n",
        "    response = openai.Completion.create(\n",
        "        engine=\"gpt-4\",  # Specify the language model\n",
        "        prompt=prompt,  # Pass the prompt to the model\n",
        "        max_tokens=50,  # Limit the response length\n",
        "        n=1,  # Generate a single response\n",
        "        stop=None,  # Don't stop the generation prematurely\n",
        "        temperature=0.8  # Control creativity (0.8 is more creative)\n",
        "    )\n",
        "\n",
        "    # Extract the generated social media post from the response\n",
        "    post = response.choices[0].text.strip()\n",
        "    return post\n",
        "\n",
        "# Example usage\n",
        "product = \"New Eco-Friendly Water Bottle\"\n",
        "print(generate_social_media_post(product))\n"
      ],
      "metadata": {
        "id": "XZA0I80ZzP1-"
      },
      "execution_count": null,
      "outputs": []
    },
    {
      "cell_type": "markdown",
      "source": [
        "### **Explanation of the Code**\n",
        "- **Function Purpose:** The `generate_social_media_post` function creates a concise and engaging social media post tailored for platforms like Twitter.\n",
        "- **Prompt Creation:** The prompt asks the AI to generate a post that is catchy and includes a call-to-action, making it suitable for marketing purposes.\n",
        "- **API Call:** The `max_tokens` is set to 50, as social media posts are generally short. The `temperature` is set to 0.8, encouraging more creative and engaging outputs.\n",
        "- **Response Extraction:** The response is extracted and cleaned up before being returned as the final social media post.\n"
      ],
      "metadata": {
        "id": "JsSNQn3b4937"
      }
    },
    {
      "cell_type": "markdown",
      "source": [
        "# **Step 3: Handling Creative Tasks with Constraints**\n",
        "In many scenarios, content must be generated within certain constraints, such as word count, tone, or style. In this step, we'll create a function that instructs the AI to generate content while adhering to these specific constraints.\n",
        "\n"
      ],
      "metadata": {
        "id": "1SdrHEThzcYy"
      }
    },
    {
      "cell_type": "markdown",
      "source": [
        "## Example: Generating a Short Story with Constraints\n",
        "We'll use the `generate_constrained_content` function to create a short story that fits within certain parameters, such as a limited word count and a specified tone.\n"
      ],
      "metadata": {
        "id": "mFrOiLBJzgMW"
      }
    },
    {
      "cell_type": "code",
      "source": [
        "def generate_constrained_content(task, constraints):\n",
        "    # Create the prompt with the specified task and constraints\n",
        "    prompt = f\"Write a {task} with the following constraints: {constraints}.\"\n",
        "\n",
        "    # Call the OpenAI API with the prompt\n",
        "    response = openai.Completion.create(\n",
        "        engine=\"gpt-4\",  # Specify the language model\n",
        "        prompt=prompt,  # Pass the prompt to the model\n",
        "        max_tokens=300,  # Limit the response length\n",
        "        n=1,  # Generate a single response\n",
        "        stop=None,  # Don't stop the generation prematurely\n",
        "        temperature=0.6  # Control creativity (0.6 balances creativity with adherence to constraints)\n",
        "    )\n",
        "\n",
        "    # Extract the generated content from the response\n",
        "    content = response.choices[0].text.strip()\n",
        "    return content\n",
        "\n",
        "# Example usage\n",
        "task = \"short story\"\n",
        "constraints = \"200 words, include a twist ending, written in a humorous tone\"\n",
        "print(generate_constrained_content(task, constraints))\n"
      ],
      "metadata": {
        "id": "BwWybuTNzg9G"
      },
      "execution_count": null,
      "outputs": []
    },
    {
      "cell_type": "markdown",
      "source": [
        "### **Explanation of the Code**\n",
        "- **Function Purpose:** The `generate_constrained_content` function allows you to generate content that fits within specific guidelines or constraints, such as word count or tone.\n",
        "- **Prompt Creation:** The prompt includes both the task (e.g., \"short story\") and the constraints (e.g., \"200 words, humorous tone\") to guide the AI.\n",
        "- **API Call:** The `max_tokens` parameter is adjusted based on the expected length of the content. The `temperature` is set to 0.6 to balance creativity with adherence to the constraints.\n",
        "- **Response Extraction:** The generated content is extracted, cleaned up, and returned as the final output.\n"
      ],
      "metadata": {
        "id": "zDm3gdP_z2Ci"
      }
    },
    {
      "cell_type": "markdown",
      "source": [
        "# **Conclusion and Further Exploration**\n",
        "You've now successfully created different types of content using the OpenAI API, including blogs, emails, and social media posts. You've also learned how to guide the AI to generate content within specific constraints.\n",
        "\n",
        "This lab is just the beginning. Try experimenting with different topics, tones, and constraints to see how the AI responds. You might also want to explore adjusting the `temperature` setting, which controls the randomness and creativity of the output.\n",
        "\n",
        "If you're interested in going further, consider:\n",
        "- **Exploring other content types:** Try generating other forms of content like product descriptions, tutorials, or even poetry.\n",
        "- **Experimenting with larger constraints:** See how the model handles more complex or unusual constraints.\n",
        "- **Integrating AI-generated content:** Explore how AI-generated content can be integrated into real-world applications, like automated content creation tools or personalized marketing campaigns.\n",
        "\n",
        "Happy experimenting!\n"
      ],
      "metadata": {
        "id": "hDk7Z_FkGIUx"
      }
    }
  ]
}