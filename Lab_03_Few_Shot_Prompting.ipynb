{
  "cells": [
    {
      "cell_type": "markdown",
      "metadata": {
        "id": "29wptg9-mFsm"
      },
      "source": [
        "# Lab 3: Few-Shot Prompting\n",
        "\n",
        "\n",
        "Welcome to Lab 3! Few-Shot Prompting. In this lab, we will explore the concept of few-shot prompting, a technique where you provide examples within a prompt to guide the AI model’s response. This approach helps the AI generate more accurate and contextually relevant outputs by showing it how to perform a task. You will learn how to craft effective few-shot prompts and find the right balance between too many and too few examples.\n",
        "\n",
        "\n",
        "**Why This Matters:**\n",
        "Few-shot prompting is particularly useful when you need to ensure the AI generates a response that closely aligns with your expectations. By providing a few examples, you can significantly improve the quality of the output, especially for more complex tasks. Mastering this technique will enhance your ability to control and fine-tune AI responses.\n",
        "\n",
        "**Learning Objectives:**\n",
        "- **Provide Effective Examples:** Learn how to create and include examples within prompts to guide the AI model’s responses.\n",
        "- **Balance Examples:** Understand how to balance the number of examples to optimize AI performance.\n",
        "- **Evaluate AI Output:** Assess how well the AI uses the provided examples to produce the desired output."
      ]
    },
    {
      "cell_type": "markdown",
      "metadata": {
        "id": "b1pzkAcRskbI"
      },
      "source": [
        "## Section 1: Providing Examples Within Prompts\n",
        "\n",
        "In this section, we will focus on how to craft few-shot prompts by including examples that guide the AI in generating accurate responses.\n",
        "\n",
        "\n",
        "**What is Few-Shot Prompting?**\n",
        "\n",
        "\n",
        "Few-shot prompting involves giving the AI a few examples of the desired output within the prompt itself. These examples help the model understand the context and format of the response you are looking for.\n",
        "\n",
        "**Example:**\n",
        "Let’s start with a simple task, Ask the AI to generate a list of healthy snacks.\n"
      ]
    },
    {
      "cell_type": "code",
      "execution_count": null,
      "metadata": {
        "id": "AXrT_keqmFsr"
      },
      "outputs": [],
      "source": [
        "import openai\n",
        "\n",
        "# Store your OpenAI API key\n",
        "openai.api_key = \"your-api-key-here\"\n",
        "\n",
        "# Few-shot prompt example\n",
        "prompt = \"\"\"\n",
        "Here are some examples of healthy snacks:\n",
        "1. Apples with peanut butter\n",
        "2. Greek yogurt with honey and berries\n",
        "\n",
        "Now, provide a few more examples of healthy snacks.\n",
        "\"\"\"\n",
        "\n",
        "response = openai.Completion.create(\n",
        "    engine=\"gpt-4\",\n",
        "    prompt=prompt,\n",
        "    max_tokens=50\n",
        ").choices[0].text.strip()\n",
        "\n",
        "print(\"Few-Shot Response:\", response)\n"
      ]
    },
    {
      "cell_type": "markdown",
      "metadata": {
        "id": "4xgVvcRomFss"
      },
      "source": [
        "## Exercise 1: Crafting Few-Shot Prompts\n",
        "\n",
        "**Task:** Write a prompt asking the AI to generate a few headlines for an article about the benefits of meditation. Provide two examples of headlines to guide the AI.\n",
        "\n",
        "**Prompt:**\n"
      ]
    },
    {
      "cell_type": "code",
      "execution_count": null,
      "metadata": {
        "id": "K5C1ipPitHXY"
      },
      "outputs": [],
      "source": [
        "# Your few-shot prompt\n",
        "prompt = \"\"\"\n",
        "Here are some examples of headlines for an article about the benefits of meditation:\n",
        "1. \"Unlocking Inner Peace: The Science Behind Meditation\"\n",
        "2. \"Meditation: A Pathway to Stress-Free Living\"\n",
        "\n",
        "Now, generate three more headlines for the article.\n",
        "\"\"\"\n",
        "\n",
        "# Generating the response\n",
        "response = openai.Completion.create(\n",
        "    engine=\"gpt-4\",\n",
        "    prompt=prompt,\n",
        "    max_tokens=50\n",
        ").choices[0].text.strip()\n",
        "\n",
        "print(\"Response:\", response)"
      ]
    },
    {
      "cell_type": "markdown",
      "source": [
        "**Discussion:** How did the AI respond to your few-shot prompt? Did the examples you provided help the AI generate relevant headlines? Discuss with a partner or group how the examples influenced the AI’s output."
      ],
      "metadata": {
        "id": "kMcV0gBOtWFn"
      }
    },
    {
      "cell_type": "markdown",
      "metadata": {
        "id": "qMozd6vHswzH"
      },
      "source": [
        "## Section 2: Balancing Between Too Many and Too Few Examples\n",
        "\n",
        "In this section, we’ll explore the importance of finding the right balance between too many and too few examples in your few-shot prompts. Providing too many examples can overwhelm the AI, while too few might not give enough guidance.\n",
        "\n",
        "**The Challenge of Balancing Examples:**\n",
        "\n",
        "- **Too Few Examples:** The AI may not have enough context or guidance to produce the desired output.\n",
        "- **Too Many Examples:** The AI might become too constrained or repetitive, reducing creativity and flexibility.\n",
        "\n",
        "**Example:** Let’s ask the AI to generate a summary for a book. We’ll start with two examples and then compare with four examples to see the impact on the output."
      ]
    },
    {
      "cell_type": "code",
      "execution_count": null,
      "metadata": {
        "id": "zNpJjtGpmFss"
      },
      "outputs": [],
      "source": [
        "# Few-shot prompt with two examples\n",
        "prompt_two_examples = \"\"\"\n",
        "Summarize the following books:\n",
        "1. \"To Kill a Mockingbird\" - A novel set in the American South, exploring themes of racism and injustice through the eyes of a young girl.\n",
        "2. \"1984\" - A dystopian novel depicting a totalitarian regime that exercises extreme control over its citizens.\n",
        "\n",
        "Now, summarize the book \"Pride and Prejudice.\"\n",
        "\"\"\"\n",
        "\n",
        "response_two_examples = openai.Completion.create(\n",
        "    engine=\"gpt-4\",\n",
        "    prompt=prompt_two_examples,\n",
        "    max_tokens=50\n",
        ").choices[0].text.strip()\n",
        "\n",
        "print(\"Response with Two Examples:\", response_two_examples)\n",
        "\n",
        "# Few-shot prompt with four examples\n",
        "prompt_four_examples = \"\"\"\n",
        "Summarize the following books:\n",
        "1. \"To Kill a Mockingbird\" - A novel set in the American South, exploring themes of racism and injustice through the eyes of a young girl.\n",
        "2. \"1984\" - A dystopian novel depicting a totalitarian regime that exercises extreme control over its citizens.\n",
        "3. \"Moby Dick\" - A tale of obsession and revenge, focusing on a captain's quest to hunt a giant white whale.\n",
        "4. \"The Great Gatsby\" - A story of wealth, love, and the American Dream, set in the Roaring Twenties.\n",
        "\n",
        "Now, summarize the book \"Pride and Prejudice.\"\n",
        "\"\"\"\n",
        "\n",
        "response_four_examples = openai.Completion.create(\n",
        "    engine=\"gpt-4\",\n",
        "    prompt=prompt_four_examples,\n",
        "    max_tokens=50\n",
        ").choices[0].text.strip()\n",
        "\n",
        "print(\"Response with Four Examples:\", response_four_examples)\n"
      ]
    },
    {
      "cell_type": "markdown",
      "metadata": {
        "id": "cCcnV1QimFst"
      },
      "source": [
        "### Exercise 2: Finding the Balance\n",
        "\n",
        "**Task:** Create a zero-shot prompt for a specific task, such as summarizing a scientific article. Observe how the AI handles the task and identify any limitations.\n",
        "\n",
        "**Your Prompt:**"
      ]
    },
    {
      "cell_type": "code",
      "execution_count": null,
      "metadata": {
        "id": "FUYWI2tCmFst"
      },
      "outputs": [],
      "source": [
        "# Few-shot prompt with two examples\n",
        "prompt_two_examples = \"\"\"\n",
        "Generate email subject lines for a marketing campaign:\n",
        "1. \"Unlock Exclusive Deals Just for You!\"\n",
        "2. \"Don't Miss Out on Our Limited-Time Offer!\"\n",
        "\n",
        "Now, create two more email subject lines.\n",
        "\"\"\"\n",
        "\n",
        "# Generating the response with two examples\n",
        "response_two_examples = openai.Completion.create(\n",
        "    engine=\"gpt-4\",\n",
        "    prompt=prompt_two_examples,\n",
        "    max_tokens=50\n",
        ").choices[0].text.strip()\n",
        "\n",
        "print(\"Response with Two Examples:\", response_two_examples)\n",
        "\n",
        "# Few-shot prompt with four examples\n",
        "prompt_four_examples = \"\"\"\n",
        "Generate email subject lines for a marketing campaign:\n",
        "1. \"Unlock Exclusive Deals Just for You!\"\n",
        "2. \"Don't Miss Out on Our Limited-Time Offer!\"\n",
        "3. \"Your Special Offer Awaits – Click to Save!\"\n",
        "4. \"Hurry! These Deals Won't Last Long!\"\n",
        "\n",
        "Now, create two more email subject lines.\n",
        "\"\"\"\n",
        "\n",
        "# Generating the response with four examples\n",
        "response_four_examples = openai.Completion.create(\n",
        "    engine=\"gpt-4\",\n",
        "    prompt=prompt_four_examples,\n",
        "    max_tokens=50\n",
        ").choices[0].text.strip()\n",
        "\n",
        "print(\"Response with Four Examples:\", response_four_examples)\n"
      ]
    },
    {
      "cell_type": "markdown",
      "metadata": {
        "id": "iIKuHKkmmFst"
      },
      "source": [
        "### Discussion:\n",
        "\n",
        "Which set of responses was more effective? Did the AI perform better with two examples or four? How did the number of examples impact the creativity and relevance of the output?"
      ]
    },
    {
      "cell_type": "markdown",
      "metadata": {
        "id": "jqF-whKwmFsu"
      },
      "source": [
        "## Section 3: Evaluating AI Output\n",
        "\n",
        "Now that you’ve experimented with few-shot prompts, it’s time to evaluate how well the AI used the provided examples to generate the desired output.\n",
        "\n",
        "### Evaluation Criteria:\n",
        "\n",
        "- **Relevance:** How closely did the AI’s response match the examples provided?\n",
        "- **Originality:** Did the AI create unique outputs or simply mimic the examples?\n",
        "- **Accuracy:** Did the AI correctly follow the structure and context of the examples?\n",
        "\n",
        "### Exercise 3: Evaluating Your Prompts\n",
        "\n",
        "**Task:** Review the responses generated in previous exercises. Rate each response on relevance, completeness, and creativity. Share your evaluations with a partner or group.\n",
        "\n",
        "**Reflection:**\n",
        "Based on your evaluations, how well did the AI use the provided examples? What were its strengths and weaknesses? What adjustments could you make to your prompts to achieve better results?"
      ]
    },
    {
      "cell_type": "markdown",
      "metadata": {
        "id": "hlhC7umgmFsw"
      },
      "source": [
        "## Section 4: Best Practices for Few-Shot Prompting\n",
        "\n",
        "As you continue to refine your few-shot prompting skills, keep these best practices in mind:\n",
        "\n",
        "- **Start Simple:** Begin with a few well-chosen examples that clearly illustrate the desired output.\n",
        "- **Monitor Complexity:** Avoid overloading the AI with too many examples, which can lead to repetitive or constrained responses.\n",
        "- **Iterate and Improve:** Experiment with different numbers and types of examples to see what works best for your specific use case.\n",
        "\n"
      ]
    },
    {
      "cell_type": "markdown",
      "metadata": {
        "id": "0P5xGsiOmFsw"
      },
      "source": [
        "### Interactive Quiz:\n",
        "\n",
        "Test your understanding of few-shot prompting with the following quiz questions:\n",
        "\n",
        "- What is the primary advantage of few-shot prompting?\n",
        "- How does the number of examples impact the AI’s output?\n",
        "- What strategies can you use to balance the number of examples in a few-shot prompt?\n"
      ]
    },
    {
      "cell_type": "markdown",
      "metadata": {
        "id": "i_BGTfi2mFsw"
      },
      "source": [
        "### Summary:\n",
        "\n",
        "Few-shot prompting is a powerful technique that allows you to guide the AI by providing examples within the prompt. By finding the right balance between too many and too few examples, you can optimize the AI’s performance and achieve more accurate, creative, and relevant outputs."
      ]
    },
    {
      "cell_type": "markdown",
      "metadata": {
        "id": "8GKZgy9bmFsw"
      },
      "source": [
        "## Conclusion and Next Steps\n",
        "\n",
        "Congratulations on completing Lab 3: Few-Shot Prompting! You’ve learned how to craft few-shot prompts, explored the impact of example quantity on AI output, and evaluated the effectiveness of your prompts.\n",
        "\n",
        "**Key Takeaways:**\n",
        "- Few-shot prompting involves providing examples within a prompt to guide the AI.\n",
        "- Balancing the number of examples is crucial for achieving the desired output.\n",
        "- Evaluating AI responses helps you refine your prompting strategies.\n",
        "\n",
        "**Next Steps:**\n",
        "- Continue experimenting with few-shot prompting in different contexts.\n",
        "- Explore the use of zero-shot and few-shot prompts together to handle various tasks.\n",
        "- Share your insights and results with peers to further enhance your prompt engineering skills.\n",
        "\n",
        "In the next lab, we’ll explore **Chain of Thought (CoT) Prompting**—where you’ll learn how to provide even more detailed guidance to the AI for complex tasks.\n"
      ]
    },
    {
      "cell_type": "markdown",
      "metadata": {
        "id": "x-PqWaQqmFsx"
      },
      "source": [
        "### Final Discussion:\n",
        "\n",
        "How has your understanding of few-shot prompting evolved through this lab? What challenges did you encounter, and how did you overcome them? Share your experiences and insights with the class.\n"
      ]
    }
  ],
  "metadata": {
    "language_info": {
      "name": "python"
    },
    "colab": {
      "provenance": []
    }
  },
  "nbformat": 4,
  "nbformat_minor": 0
}