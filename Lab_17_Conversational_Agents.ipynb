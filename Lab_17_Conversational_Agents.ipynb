{
  "nbformat": 4,
  "nbformat_minor": 0,
  "metadata": {
    "colab": {
      "provenance": []
    },
    "kernelspec": {
      "name": "python3",
      "display_name": "Python 3"
    },
    "language_info": {
      "name": "python"
    }
  },
  "cells": [
    {
      "cell_type": "markdown",
      "source": [
        "# **Lab 17: Conversational Agents with Azure OpenAI**\n",
        "\n",
        "---\n",
        "\n",
        "## **Introduction**\n",
        "\n",
        "In today's world, conversational agents, often known as chatbots, have become a crucial component of many digital interactions. From customer service to personal assistants, these AI-driven tools are designed to simulate human conversation and provide valuable assistance across various platforms.\n",
        "\n",
        "In this lab, we will explore the fundamentals of building conversational agents using Azure OpenAI. Our focus will be on two main aspects:\n",
        "\n",
        "1. **Building a Basic Chatbot:** We will start by creating a simple chatbot that can engage in basic conversations. This chatbot will respond to user inputs based on predefined prompts. By doing so, you will learn how to craft effective prompts to guide the chatbot's responses and ensure they are relevant and coherent.\n",
        "\n",
        "2. **Handling Multi-Turn Conversations and Context Management:** Next, we will enhance our chatbot to manage multi-turn conversations. Unlike single-turn interactions, multi-turn conversations require maintaining context across multiple exchanges. This capability is crucial for creating a more engaging and natural conversational experience. You will learn how to manage conversation history and context to ensure that the chatbot can handle ongoing dialogues effectively.\n",
        "\n",
        "Throughout this lab, we will leverage Azure OpenAI's powerful language models to process and generate responses. Azure OpenAI provides advanced AI capabilities that enable chatbots to understand and generate human-like text, making interactions more intuitive and useful.\n",
        "\n",
        "By the end of this lab, you will have hands-on experience in:\n",
        "- Creating a basic chatbot that can respond to user queries.\n",
        "- Extending the chatbot to handle complex conversations that require context management.\n",
        "- Utilizing Azure OpenAI's API to power conversational agents effectively.\n",
        "\n",
        "Whether you're looking to integrate chatbots into customer service platforms, develop personal assistants, or simply explore the potential of conversational AI, this lab will provide you with the foundational skills and knowledge to get started.\n",
        "\n",
        "Let's dive into the code and start building our conversational agents!\n"
      ],
      "metadata": {
        "id": "UnEqzffOL9wt"
      }
    },
    {
      "cell_type": "markdown",
      "source": [
        "# **Step 1: Setting Up the Environment**\n",
        "In this step, we'll set up our environment to use Azure OpenAI. We'll securely retrieve our API key and endpoint from environment variables and configure the OpenAI client.\n"
      ],
      "metadata": {
        "id": "05PyGrdEMHS3"
      }
    },
    {
      "cell_type": "code",
      "execution_count": null,
      "metadata": {
        "id": "zPAPT38dKtgj"
      },
      "outputs": [],
      "source": [
        "import openai\n",
        "\n",
        "# Set up your OpenAI API key\n",
        "openai.api_key = \"your-api-key-here\"\n"
      ]
    },
    {
      "cell_type": "markdown",
      "source": [
        "# **Step 2: Building a Basic Chatbot**\n",
        "We will build a basic chatbot using prompt engineering. The chatbot will handle user inputs and generate responses based on predefined prompts.\n"
      ],
      "metadata": {
        "id": "yXvEKEuvMOO8"
      }
    },
    {
      "cell_type": "code",
      "source": [
        "def basic_chatbot(user_input):\n",
        "    # Define a simple prompt to generate responses for a chatbot\n",
        "    prompt = f\"The following is a conversation with a helpful assistant. The assistant provides clear and concise answers.\\n\\nUser: {user_input}\\nAssistant:\"\n",
        "\n",
        "    # Call the Azure OpenAI API with the prompt\n",
        "    response = openai.Completion.create(\n",
        "        engine=\"gpt-4\",  # Specify the language model\n",
        "        prompt=prompt,  # Pass the prompt to the model\n",
        "        max_tokens=150,  # Limit the response length\n",
        "        n=1,  # Generate a single response\n",
        "        stop=[\"User:\", \"Assistant:\"],  # Stop the generation at conversation boundaries\n",
        "        temperature=0.5  # Moderate creativity to maintain coherence\n",
        "    )\n",
        "\n",
        "    # Extract the chatbot's response from the API response\n",
        "    chatbot_response = response.choices[0].text.strip()\n",
        "    return chatbot_response\n",
        "\n",
        "# Interactive conversation loop for the basic chatbot\n",
        "print(\"Basic Chatbot is ready to talk! Type '0' to exit.\")\n",
        "while True:\n",
        "    user_input = input(\"You: \")\n",
        "    if user_input == \"0\":\n",
        "        print(\"Exiting the chat. Have a great day!\")\n",
        "        break\n",
        "    response = basic_chatbot(user_input)\n",
        "    print(f\"Assistant: {response}\")\n"
      ],
      "metadata": {
        "id": "GMSD7Jc3MQEA"
      },
      "execution_count": null,
      "outputs": []
    },
    {
      "cell_type": "markdown",
      "source": [
        "### **Explanation of the Code**\n",
        "- **Function Purpose:** The `basic_chatbot` function generates responses to user inputs based on a predefined prompt.\n",
        "- **Prompt Creation:** The prompt sets up the context of a conversation with an assistant, guiding the AI to provide relevant and concise answers.\n",
        "- **API Call:** The `stop` parameter ensures the response is generated within the conversation boundaries, while the `temperature` setting helps balance creativity and coherence.\n",
        "- **Interactive Loop:** The loop allows continuous interaction with the chatbot. The conversation continues until the user inputs `0`, at which point the loop exits, and the chatbot session ends.\n"
      ],
      "metadata": {
        "id": "u7YnILf2MSCt"
      }
    },
    {
      "cell_type": "markdown",
      "source": [
        "# **Step 3: Handling Multi-Turn Conversations and Context Management**\n",
        "We will enhance our chatbot to manage context across multiple turns in a conversation. This allows the chatbot to maintain a coherent conversation and recall previous interactions.\n"
      ],
      "metadata": {
        "id": "CXoWk85yMUUN"
      }
    },
    {
      "cell_type": "code",
      "source": [
        "class MultiTurnChatbot:\n",
        "    def __init__(self):\n",
        "        self.conversation_history = []\n",
        "\n",
        "    def update_history(self, user_input, assistant_response):\n",
        "        self.conversation_history.append(f\"User: {user_input}\")\n",
        "        self.conversation_history.append(f\"Assistant: {assistant_response}\")\n",
        "\n",
        "    def generate_response(self, user_input):\n",
        "        # Create the conversation prompt including the history\n",
        "        prompt = \"\\n\".join(self.conversation_history) + f\"\\nUser: {user_input}\\nAssistant:\"\n",
        "\n",
        "        # Call the Azure OpenAI API with the prompt\n",
        "        response = openai.Completion.create(\n",
        "            engine=\"gpt-4\",  # Specify the language model\n",
        "            prompt=prompt,  # Pass the prompt to the model\n",
        "            max_tokens=150,  # Limit the response length\n",
        "            n=1,  # Generate a single response\n",
        "            stop=[\"User:\", \"Assistant:\"],  # Stop the generation at conversation boundaries\n",
        "            temperature=0.5  # Moderate creativity to maintain coherence\n",
        "        )\n",
        "\n",
        "        # Extract the chatbot's response from the API response\n",
        "        assistant_response = response.choices[0].text.strip()\n",
        "        self.update_history(user_input, assistant_response)\n",
        "        return assistant_response\n",
        "\n",
        "# Interactive conversation loop for the multi-turn chatbot\n",
        "chatbot = MultiTurnChatbot()\n",
        "\n",
        "print(\"Multi-Turn Chatbot is ready to talk! Type '0' to exit.\")\n",
        "while True:\n",
        "    user_input = input(\"You: \")\n",
        "    if user_input == \"0\":\n",
        "        print(\"Exiting the chat. Have a great day!\")\n",
        "        break\n",
        "    response = chatbot.generate_response(user_input)\n",
        "    print(f\"Assistant: {response}\")\n"
      ],
      "metadata": {
        "id": "g4jm1R3ZMX04"
      },
      "execution_count": null,
      "outputs": []
    },
    {
      "cell_type": "markdown",
      "source": [
        "### **Explanation of the Code**\n",
        "- **Class Definition:** `MultiTurnChatbot` manages conversation history to maintain context over multiple interactions.\n",
        "- **History Management:** The `update_history` method appends user inputs and assistant responses to the conversation history.\n",
        "- **Response Generation:** The `generate_response` method constructs a prompt that includes the conversation history, ensuring context is maintained. It calls the OpenAI API to generate a response and updates the history accordingly.\n",
        "- **Interactive Loop:** The loop allows continuous interaction with the chatbot. The conversation continues until the user inputs `0`, at which point the loop exits, and the chatbot session ends.\n"
      ],
      "metadata": {
        "id": "JwwhoZREMZue"
      }
    },
    {
      "cell_type": "markdown",
      "source": [
        "# **Conclusion and Further Exploration**\n",
        "You've successfully created a basic chatbot and implemented multi-turn conversation handling using Azure OpenAI. You've learned how to manage conversation context and generate coherent responses across multiple interactions.\n",
        "\n",
        "To deepen your understanding and skills, consider exploring:\n",
        "- **Advanced Context Management:** Experiment with different methods to manage and retrieve context in longer conversations.\n",
        "- **Integration with Applications:** Explore how to integrate your chatbot into web applications or messaging platforms.\n",
        "- **Customizing Behavior:** Adjust prompts and settings to tailor the chatbot's behavior and responses to specific use cases.\n",
        "\n",
        "Keep experimenting and refining your chatbot skills to create more sophisticated conversational agents!\n",
        "\n",
        "Happy coding!\n"
      ],
      "metadata": {
        "id": "9W-ytFcGMbiR"
      }
    }
  ]
}