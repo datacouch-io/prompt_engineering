{
  "nbformat": 4,
  "nbformat_minor": 0,
  "metadata": {
    "colab": {
      "provenance": []
    },
    "kernelspec": {
      "name": "python3",
      "display_name": "Python 3"
    },
    "language_info": {
      "name": "python"
    }
  },
  "cells": [
    {
      "cell_type": "markdown",
      "source": [
        "# Lab 6: Dynamic Prompting with External APIs\n",
        "\n",
        "Welcome to Lab 6! In this lab, we are going to observe dynamic prompting through integrated external APIs that will add to the context of the addition. In this manner, you will have the ability to incorporate real-time data, whether it is on weather conditions, stock prices, or another relevant piece of information, to obtain more accurate and contextually relevant answers from AI models.\n",
        "\n",
        "**Why This Matters:**\n",
        "\n",
        "Dynamic prompts open a whole window of opportunities for developing more responsive and adaptive AI apps. You will be able to craft AI responses on the fly; to present events or certain user needs just perfectly by feeding the real-time data.\n",
        "\n",
        "**Learning Objectives:**\n",
        "- Understand how to integrate external APIs with the OpenAI API.\n",
        "- Develop skills to create dynamic prompts that adapt based on real-time data.\n",
        "- Experiment with real-world scenarios to apply dynamic prompting techniques.\n"
      ],
      "metadata": {
        "id": "NzBTLysktWqi"
      }
    },
    {
      "cell_type": "markdown",
      "source": [
        "## Setting Up the OpenAI API and External APIs\n",
        "\n",
        "Before we begin, you'll need to set up access to the OpenAI API as well as one or more external APIs. Make sure your API keys are properly configured in this notebook.\n",
        "\n",
        "\n",
        "**Code Example:**\n"
      ],
      "metadata": {
        "id": "FT_RH3MctaPK"
      }
    },
    {
      "cell_type": "code",
      "source": [
        "import openai\n",
        "import requests\n",
        "\n",
        "# Store your OpenAI API key\n",
        "openai.api_key = \"your-openai-api-key-here\"\n",
        "\n",
        "# Store your external API key (e.g., weather API key)\n",
        "weather_api_key = \"your-weather-api-key-here\"\n",
        "\n",
        "# Test the setup by making a simple API request to OpenAI\n",
        "response = openai.Completion.create(\n",
        "    engine=\"gpt-4\",\n",
        "    prompt=\"What's the weather like today?\",\n",
        "    max_tokens=10\n",
        ")\n",
        "print(response.choices[0].text.strip())\n"
      ],
      "metadata": {
        "id": "RUGZkNQktbU0"
      },
      "execution_count": null,
      "outputs": []
    },
    {
      "cell_type": "markdown",
      "source": [
        "## Section 1: Introduction to Dynamic Prompting\n",
        "\n",
        "Dynamic prompting involves using real-time data from external sources to enhance the prompts you send to the AI. This allows the AI to generate responses that are not only contextually relevant but also up-to-date with the latest information.\n",
        "\n",
        "### Why Use Dynamic Prompting?\n",
        "- **Relevance:** Real-time data ensures that the AI's responses are current and accurate.\n",
        "- **Adaptability:** Prompts can be adjusted based on changing conditions, making the AI more flexible and responsive to user needs.\n",
        "\n",
        "**Example:** A travel recommendation system that suggests destinations based on current weather conditions, or a stock market analysis tool that provides advice based on the latest stock prices.\n"
      ],
      "metadata": {
        "id": "ekl1_wYMtcjM"
      }
    },
    {
      "cell_type": "code",
      "source": [
        "# Example: Simple Dynamic Prompt using weather data\n",
        "city = \"New York\"\n",
        "weather_api_url = f\"http://api.weatherapi.com/v1/current.json?key={weather_api_key}&q={city}\"\n",
        "\n",
        "# Fetching the weather data\n",
        "weather_response = requests.get(weather_api_url)\n",
        "weather_data = weather_response.json()\n",
        "\n",
        "# Extracting the relevant data\n",
        "current_weather = weather_data['current']['condition']['text']\n",
        "temperature = weather_data['current']['temp_c']\n",
        "\n",
        "# Creating a dynamic prompt based on the weather data\n",
        "dynamic_prompt = f\"The current weather in {city} is {current_weather} with a temperature of {temperature}°C. \" \\\n",
        "                 \"What type of outdoor activities would you recommend for this weather?\"\n",
        "\n",
        "# Generating a response using the OpenAI API\n",
        "response_dynamic = openai.Completion.create(\n",
        "    engine=\"gpt-4\",\n",
        "    prompt=dynamic_prompt,\n",
        "    max_tokens=100\n",
        ").choices[0].text.strip()\n",
        "\n",
        "# Displaying the response\n",
        "print(\"Dynamic Prompt Response:\", response_dynamic)\n"
      ],
      "metadata": {
        "id": "BCXliYeQtdf8"
      },
      "execution_count": null,
      "outputs": []
    },
    {
      "cell_type": "markdown",
      "source": [
        "### Exercise 1: Creating Your First Dynamic Prompt\n",
        "\n",
        "Let's start by creating a dynamic prompt using real-time data. Choose an external API (e.g., weather, news, stock prices) and craft a prompt that incorporates the data you retrieve.\n",
        "\n",
        "**Scenario:** You are developing a travel recommendation AI that suggests activities based on current weather conditions.\n",
        "\n",
        "**Task:** Use a weather API to retrieve the current weather for a city of your choice, and create a dynamic prompt that asks the AI to suggest activities based on the weather.\n",
        "\n",
        "**Your Dynamic Prompt:**\n"
      ],
      "metadata": {
        "id": "TRt2ITcYte_x"
      }
    },
    {
      "cell_type": "code",
      "source": [
        "# Example of a dynamic prompt\n",
        "city = \"Los Angeles\"\n",
        "weather_api_url = f\"http://api.weatherapi.com/v1/current.json?key={weather_api_key}&q={city}\"\n",
        "\n",
        "# Fetching the weather data\n",
        "weather_response = requests.get(weather_api_url)\n",
        "weather_data = weather_response.json()\n",
        "\n",
        "# Extracting the relevant data\n",
        "current_weather = weather_data['current']['condition']['text']\n",
        "temperature = weather_data['current']['temp_c']\n",
        "\n",
        "# Creating the dynamic prompt\n",
        "dynamic_prompt = f\"The current weather in {city} is {current_weather} with a temperature of {temperature}°C. \" \\\n",
        "                 \"What outdoor activities would you recommend for this weather?\"\n",
        "\n",
        "# Generating the response\n",
        "response_dynamic = openai.Completion.create(\n",
        "    engine=\"gpt-4\",\n",
        "    prompt=dynamic_prompt,\n",
        "    max_tokens=100\n",
        ").choices[0].text.strip()\n",
        "\n",
        "# Displaying the response\n",
        "print(\"Dynamic Prompt Response:\", response_dynamic)\n"
      ],
      "metadata": {
        "id": "y-GnOaJRtgdy"
      },
      "execution_count": null,
      "outputs": []
    },
    {
      "cell_type": "markdown",
      "source": [
        "### Discussion:\n",
        "\n",
        "How did the real-time data influence the AI's response? Was the response appropriate for the current conditions? Discuss how dynamic data can enhance the relevance and accuracy of AI-generated content.\n"
      ],
      "metadata": {
        "id": "la-7myUptiFE"
      }
    },
    {
      "cell_type": "code",
      "source": [
        "# Example: Dynamic Prompt combining weather and stock data\n",
        "stock_symbol = \"AAPL\"\n",
        "stock_api_url = f\"https://finnhub.io/api/v1/quote?symbol={stock_symbol}&token=your-stock-api-key\"\n",
        "\n",
        "# Fetching stock data\n",
        "stock_response = requests.get(stock_api_url)\n",
        "stock_data = stock_response.json()\n",
        "\n",
        "# Extracting relevant stock data\n",
        "current_stock_price = stock_data['c']\n",
        "price_change = stock_data['d']\n",
        "\n",
        "# Creating a dynamic prompt that combines weather and stock data\n",
        "combined_prompt = f\"The current weather in {city} is {current_weather} with a temperature of {temperature}°C. \" \\\n",
        "                  f\"The stock price of {stock_symbol} is currently ${current_stock_price}, \" \\\n",
        "                  f\"with a change of ${price_change} today. What would be your investment advice in this scenario?\"\n",
        "\n",
        "# Generating the response using OpenAI API\n",
        "response_combined = openai.Completion.create(\n",
        "    engine=\"gpt-4\",\n",
        "    prompt=combined_prompt,\n",
        "    max_tokens=150\n",
        ").choices[0].text.strip()\n",
        "\n",
        "# Displaying the response\n",
        "print(\"Combined Dynamic Prompt Response:\", response_combined)\n"
      ],
      "metadata": {
        "id": "9t5tMevltjGi"
      },
      "execution_count": null,
      "outputs": []
    },
    {
      "cell_type": "markdown",
      "source": [
        "### Exercise 2: Building a Complex Dynamic Prompt\n",
        "\n",
        "**Task:** Create a dynamic prompt that incorporates data from at least two different external APIs. For example, you could combine weather and news data to create a prompt that asks for activity recommendations based on current events and weather conditions.\n",
        "\n",
        "**Your Dynamic Prompt:**\n"
      ],
      "metadata": {
        "id": "Z42qcNIStkLD"
      }
    },
    {
      "cell_type": "code",
      "source": [
        "# Example of a complex dynamic prompt\n",
        "city = \"San Francisco\"\n",
        "news_api_url = f\"https://newsapi.org/v2/top-headlines?city={city}&apiKey=your-news-api-key\"\n",
        "\n",
        "# Fetching news data\n",
        "news_response = requests.get(news_api_url)\n",
        "news_data = news_response.json()\n",
        "\n",
        "# Extracting a news headline\n",
        "top_headline = news_data['articles'][0]['title']\n",
        "\n",
        "# Creating the dynamic prompt\n",
        "complex_prompt = f\"In {city}, the current weather is {current_weather} with a temperature of {temperature}°C. \" \\\n",
        "                 f\"Today's top news headline is: '{top_headline}'. What activities would you suggest based on these conditions?\"\n",
        "\n",
        "# Generating the response\n",
        "response_complex = openai.Completion.create(\n",
        "    engine=\"gpt-4\",\n",
        "    prompt=complex_prompt,\n",
        "    max_tokens=150\n",
        ").choices[0].text.strip()\n",
        "\n",
        "# Displaying the response\n",
        "print(\"Complex Dynamic Prompt Response:\", response_complex)\n"
      ],
      "metadata": {
        "id": "Md130Pz2tlot"
      },
      "execution_count": null,
      "outputs": []
    },
    {
      "cell_type": "markdown",
      "source": [
        "### Reflection:\n",
        "\n",
        "What challenges did you encounter when combining multiple data sources? How did these challenges affect the quality of the AI's response? Reflect on how you can improve the integration of different data types in your dynamic prompts.\n"
      ],
      "metadata": {
        "id": "Nsc9Wv5ZtmxW"
      }
    },
    {
      "cell_type": "markdown",
      "source": [
        "## Section 3: Real-World Applications of Dynamic Prompting\n",
        "\n",
        "Dynamic prompting is particularly useful in applications where the context is constantly changing. This section will explore real-world scenarios where dynamic prompting can be effectively used.\n",
        "\n",
        "### Use Cases:\n",
        "1. **Personalized Financial Advice:** Tailoring investment advice based on real-time market data and personal user information.\n",
        "2. **Travel Planning:** Suggesting travel itineraries based on current weather, local events, and user preferences.\n",
        "3. **Customer Support:** Providing context-aware support responses by integrating data from CRM systems, user history, and real-time product availability.\n"
      ],
      "metadata": {
        "id": "4Tv1JTVqtobU"
      }
    },
    {
      "cell_type": "code",
      "source": [
        "# Example: Dynamic Prompt for Personalized Financial Advice\n",
        "user_income = 75000\n",
        "user_age = 30\n",
        "stock_symbol = \"TSLA\"\n",
        "\n",
        "stock_api_url = f\"https://finnhub.io/api/v1/quote?symbol={stock_symbol}&token=your-stock-api-key\"\n",
        "stock_response = requests.get(stock_api_url)\n",
        "stock_data = stock_response.json()\n",
        "current_stock_price = stock_data['c']\n",
        "\n",
        "# Creating the dynamic prompt\n",
        "financial_prompt = f\"A {user_age}-year-old individual with an income of ${user_income} is interested in investing in {stock_symbol}. \" \\\n",
        "                   f\"The current stock price is ${current_stock_price}. What investment strategy would you recommend for this individual?\"\n",
        "\n",
        "# Generating the response\n",
        "response_financial = openai.Completion.create(\n",
        "    engine=\"gpt-4\",\n",
        "    prompt=financial_prompt,\n",
        "    max_tokens=150\n",
        ").choices[0].text.strip()\n",
        "\n",
        "# Displaying the response\n",
        "print(\"Personalized Financial Advice:\", response_financial)\n"
      ],
      "metadata": {
        "id": "3rm2WQlhtpsj"
      },
      "execution_count": null,
      "outputs": []
    },
    {
      "cell_type": "markdown",
      "source": [
        "### Exercise 3: Real-World Scenario Prompting\n",
        "\n",
        "**Task:** Develop a dynamic prompt for a real-world application relevant to your field of interest. For instance, if you work in healthcare, you could create a prompt that combines patient data with real-time health information to suggest treatment options.\n",
        "\n",
        "**Your Real-World Dynamic Prompt:**\n"
      ],
      "metadata": {
        "id": "Sz5rxWI1trST"
      }
    },
    {
      "cell_type": "markdown",
      "source": [
        "## Section 4: Best Practices for Dynamic Prompting\n",
        "\n",
        "Dynamic prompting offers powerful capabilities but also requires careful consideration of several factors to ensure effective implementation.\n",
        "\n",
        "### Key Considerations:\n",
        "- **Accuracy:** Ensure the data you're using is accurate and up-to-date.\n",
        "- **Relevance:** Only include data that is directly relevant to the prompt's purpose.\n",
        "- **Efficiency:** Minimize the number of API calls to reduce latency and avoid overwhelming the AI with too much information.\n",
        "\n",
        "### Common Pitfalls:\n",
        "- **Over-complicating Prompts:** Integrating too many data sources can lead to confusing or overly complex prompts.\n",
        "- **Data Dependency:** Relying too heavily on external data can make your prompts less flexible or usable in offline scenarios.\n"
      ],
      "metadata": {
        "id": "x5zIBbjVtuxR"
      }
    },
    {
      "cell_type": "markdown",
      "source": [
        "### Interactive Quiz: Best Practices Review\n",
        "\n",
        "Review the following dynamic prompts. Identify potential issues and suggest improvements.\n",
        "\n",
        "**Prompt 1:** \"It's currently raining in London, and the stock price of AAPL is $150. Should I buy or sell?\"\n",
        "\n",
        "**Issue:**\n",
        "\n",
        "**Suggested Improvement:**\n"
      ],
      "metadata": {
        "id": "IV40Hq6WtvjN"
      }
    },
    {
      "cell_type": "code",
      "source": [
        "# Example revision\n",
        "revised_prompt = \"Considering the current stock price of AAPL at $150, what would be your investment advice? The weather in London is currently raining, which might affect market behavior.\"\n",
        "print(\"Revised Prompt:\", revised_prompt)\n"
      ],
      "metadata": {
        "id": "M6eL8RHNtxFk"
      },
      "execution_count": null,
      "outputs": []
    },
    {
      "cell_type": "markdown",
      "source": [
        "### Summary:\n",
        "\n",
        "- **Focus on Relevance:** Ensure every piece of data in your prompt adds value.\n",
        "- **Keep It Simple:** Don’t overload your prompt with too much information.\n",
        "- **Test and Iterate:** Regularly test your prompts to refine them based on the AI’s responses.\n"
      ],
      "metadata": {
        "id": "-dOT7Pyltx6t"
      }
    },
    {
      "cell_type": "markdown",
      "source": [
        "## Conclusion and Next Steps\n",
        "\n",
        "You've successfully completed Lab for Dynamic Prompting with External APIs! By now, you should be comfortable integrating external data into your prompts to create dynamic, responsive AI applications.\n",
        "\n",
        "**Key Takeaways:**\n",
        "- Dynamic prompting allows you to incorporate real-time data into AI interactions, enhancing the relevance and accuracy of responses.\n",
        "- By combining multiple data sources, you can create rich, context-aware prompts that cater to specific user needs.\n",
        "\n",
        "**Next Steps:**\n",
        "- Continue experimenting with different APIs to see how they can be integrated into your prompts.\n",
        "- Explore how dynamic prompting can be applied in various industries and use cases.\n",
        "- Share your dynamic prompts with peers to get feedback and new ideas.\n",
        "\n",
        "In the next lab, we’ll dive into **Using Delimiters in Prompts**—a technique that helps structure your prompts and prevents common issues like prompt injection attacks.\n"
      ],
      "metadata": {
        "id": "OIACckTTtyt6"
      }
    },
    {
      "cell_type": "markdown",
      "source": [
        "### Final Discussion:\n",
        "\n",
        "Reflect on your experience with dynamic prompting. How did it enhance the AI's capabilities? What real-world applications can you see benefiting from this approach? Share your thoughts and discuss potential improvements with your peers.\n"
      ],
      "metadata": {
        "id": "HYeh3Kfmtz3b"
      }
    }
  ]
}