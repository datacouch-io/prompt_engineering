{
  "nbformat": 4,
  "nbformat_minor": 0,
  "metadata": {
    "colab": {
      "provenance": []
    },
    "kernelspec": {
      "name": "python3",
      "display_name": "Python 3"
    },
    "language_info": {
      "name": "python"
    }
  },
  "cells": [
    {
      "cell_type": "markdown",
      "source": [
        "# Lab 9: Persona and Role-Play Pattern"
      ],
      "metadata": {
        "id": "2oEqVtbSZCOE"
      }
    },
    {
      "cell_type": "markdown",
      "source": [
        "## Objective\n",
        "*   **Create Personas:** Learn how to design and define personas that a model can adopt to follow specific roles or behaviors.\n",
        "*   **Implement Role-Play:** Use role-play techniques to guide the model's responses and behavior according to the assigned persona.\n",
        "*   **Enhance Model Interaction:** Improve the quality and relevance of the model’s responses by aligning them with the defined persona.\n",
        "*   **Explore Role-Specific Scenarios:** Practice applying different personas in various scenarios to observe how role-play affects model output and interaction."
      ],
      "metadata": {
        "id": "ndsMD68aZLcL"
      }
    },
    {
      "cell_type": "markdown",
      "source": [
        "## Introduction\n",
        "\n",
        "In the realm of AI-driven interactions, it's crucial to ensure that models not only produce coherent and contextually relevant responses but also align with specific roles and behavioral expectations. This is where the Persona and Role-Play Pattern comes into play. By crafting detailed personas and simulating role-play scenarios, you can guide AI models to behave in ways that are consistent with predefined character traits, professional roles, or specific user expectations.\n",
        "\n",
        "### What is a Persona?\n",
        "\n",
        "A persona is a fictional character that represents a specific user type, role, or behavioral archetype. In the context of AI, a persona serves as a guidepost for how the model should behave when responding to prompts. For example, you might create a persona for an empathetic customer service representative, a knowledgeable technical support agent, or a persuasive sales professional. Each persona is defined by attributes such as name, role, traits, and areas of expertise, which collectively shape how the AI model generates responses.\n",
        "\n",
        "### Why Use Personas?\n",
        "Personas are vital for several reasons:\n",
        "\n",
        "Consistency: They ensure the AI’s responses remain consistent across different interactions, maintaining a coherent character.\n",
        "\n",
        "Relevance: By aligning the AI’s responses with the persona's expertise, the output is more likely to be relevant and helpful.\n",
        "\n",
        "Customization: Personas allow for tailoring the AI’s behavior to meet specific needs, whether for customer support, education, or entertainment.\n",
        "\n",
        "### What is Role-Play?\n",
        "\n",
        "Role-play involves simulating a scenario where the AI model acts according to a predefined persona while interacting with another character, which could be either another AI persona or a human user. Role-playing is an effective technique for testing and refining how well the AI adheres to the persona's characteristics, as well as for simulating real-world interactions.\n",
        "\n",
        "### Why Use Role-Play?\n",
        "\n",
        "Role-play scenarios are essential for:\n",
        "\n",
        "Training: It helps in training the AI model to respond appropriately in complex, multi-turn conversations.\n",
        "\n",
        "Evaluation: By observing the AI's performance in role-play scenarios, you can evaluate how well it follows the persona and adjust as needed.\n",
        "\n",
        "Scenario Testing: It allows you to test how the AI would behave in specific situations, ensuring it can handle various challenges.\n",
        "\n",
        "### How to Implement Personas and Role-Play in AI Models\n",
        "\n",
        "Define the Persona: Start by detailing the persona’s characteristics, including their name, role, key traits, and areas of expertise.\n",
        "\n",
        "Incorporate the Persona into Prompts: Use the persona’s details to formulate prompts that guide the AI’s behavior. For example, you might instruct the AI to respond as \"Alex,\" an empathetic customer service representative.\n",
        "\n",
        "Design Role-Play Scenarios: Create scenarios where the AI, guided by its persona, interacts with users or other AI personas. These scenarios help simulate real-world interactions and test the AI’s adherence to the persona.\n",
        "\n",
        "Evaluate and Refine: After generating responses, evaluate how well the AI’s output aligns with the persona. Make adjustments to the persona or prompts as needed to improve performance.\n",
        "\n",
        "### Benefits of Using Persona and Role-Play Pattern\n",
        "\n",
        "Enhanced User Experience: By aligning AI responses with specific personas, you can provide users with more personalized and contextually appropriate interactions.\n",
        "\n",
        "Increased Engagement: Role-playing scenarios can make interactions more engaging by simulating real-life conversations.\n",
        "Improved Accuracy: By guiding the AI through detailed personas, you can improve the accuracy and relevance of its responses, especially in specialized domains."
      ],
      "metadata": {
        "id": "U72_81hLZZLS"
      }
    },
    {
      "cell_type": "markdown",
      "source": [
        "## Step 1: Setting up the Environment\n",
        "Before we start, we need to set up our environment. This involves installing necessary libraries and configuring our OpenAI API key."
      ],
      "metadata": {
        "id": "RNeiyBM2Zemv"
      }
    },
    {
      "cell_type": "code",
      "source": [
        "# Install the OpenAI library if not already installed\n",
        "!pip install openai\n",
        "\n",
        "# Import required libraries\n",
        "import openai\n",
        "\n",
        "# Set up your OpenAI API key\n",
        "openai.api_key = 'your-api-key-here'\n"
      ],
      "metadata": {
        "id": "FlXJi90RZfWW"
      },
      "execution_count": null,
      "outputs": []
    },
    {
      "cell_type": "markdown",
      "source": [
        "#### Explanation:\n",
        "\n",
        "OpenAI Library: This is the official library provided by OpenAI to interact with their API. It allows you to generate text, images, and other types of content using their models.\n",
        "\n",
        "API Key: Your API key is required to authenticate requests to OpenAI’s servers. Replace 'your-api-key-here' with your actual key to use the API."
      ],
      "metadata": {
        "id": "IF7dx1RlZi3d"
      }
    },
    {
      "cell_type": "markdown",
      "source": [
        "## Step 2: Creating a Persona\n",
        "### 2.1 Define the Persona\n",
        "A persona is a fictional character that represents a specific type of user or behavior. In this example, we'll create a persona named \"Alex,\" who is an empathetic, patient, and knowledgeable customer service representative specializing in product returns."
      ],
      "metadata": {
        "id": "4ffH7hCxZqAb"
      }
    },
    {
      "cell_type": "code",
      "source": [
        "# Define a persona for the AI model\n",
        "persona = {\n",
        "    \"name\": \"Alex\",\n",
        "    \"role\": \"Python Mentor\",\n",
        "    \"traits\": \"patient, supportive, clear communicator\",\n",
        "    \"knowledge_area\": \"Python programming, problem-solving\"\n",
        "}"
      ],
      "metadata": {
        "id": "4uN7Su-UZuPy"
      },
      "execution_count": null,
      "outputs": []
    },
    {
      "cell_type": "markdown",
      "source": [
        "#### Explanation:\n",
        "Persona Parameters:\n",
        "\n",
        "name: The name of the persona, which humanizes the AI and makes interactions more engaging.\n",
        "\n",
        "role: The role that the AI model is playing, such as a \"Python Mentor\" or \"Customer Support Agent.\" This defines the context in which the AI operates.\n",
        "\n",
        "traits: Characteristics that describe the persona's behavior. For instance, \"patient\" and \"supportive\" guide the AI to interact in a kind and understanding manner.\n",
        "\n",
        "knowledge_area: Specifies the domain expertise of the persona, such as \"Python programming\" and \"problem-solving,\" ensuring that the AI provides relevant and accurate information in these areas.\n",
        "### 2.2 Create a Persona Template\n",
        "We will use the persona information to craft a prompt that instructs the AI to behave according to Alex's persona."
      ],
      "metadata": {
        "id": "1zUPmq7nZ3la"
      }
    },
    {
      "cell_type": "code",
      "source": [
        "def generate_response(prompt, persona):\n",
        "    persona_description = f\"\"\"\n",
        "    You are {persona['name']}, a {persona['role']}.\n",
        "    You are known for being {persona['traits']}.\n",
        "    Your expertise lies in {persona['knowledge_area']}.\n",
        "    \"\"\""
      ],
      "metadata": {
        "id": "K6NHyw7iZ8k3"
      },
      "execution_count": null,
      "outputs": []
    },
    {
      "cell_type": "markdown",
      "source": [
        "#### Explanation:\n",
        "This prompt integrates the persona into a natural language instruction. By including the persona's name, role, traits, and area of expertise, we guide the AI to adopt this character when generating responses."
      ],
      "metadata": {
        "id": "TBDDcqZYaPpC"
      }
    },
    {
      "cell_type": "markdown",
      "source": [
        "### 2.3 Test the Persona with a Sample Query\n",
        "Now, we can test how well the AI follows the persona we've created by providing a sample customer query."
      ],
      "metadata": {
        "id": "i7JI1ganaWmC"
      }
    },
    {
      "cell_type": "code",
      "source": [
        "response = openai.Completion.create(\n",
        "        engine=\"text-davinci-003\",\n",
        "        prompt=persona_description + \"\\n\\n\" + prompt,\n",
        "        max_tokens=150,\n",
        "        temperature=0.7\n",
        "    )\n",
        "    return response.choices[0].text.strip()\n",
        "\n",
        "# Test the persona\n",
        "prompt = \"Can you explain what a Python list is?\"\n",
        "response = generate_response(prompt, persona)\n",
        "print(response)"
      ],
      "metadata": {
        "id": "QJ3AhkK4aYgj"
      },
      "execution_count": null,
      "outputs": []
    },
    {
      "cell_type": "markdown",
      "source": [
        "#### Explanation:\n",
        "\n",
        "generate_response Function:\n",
        "\n",
        "prompt: The input from the user, which will be processed by the AI within the context of the defined persona.\n",
        "\n",
        "max_tokens: Limits the length of the AI's response.\n",
        "\n",
        "temperature: Controls the randomness of the output. A lower temperature (e.g., 0.7) results in more focused and deterministic responses.\n"
      ],
      "metadata": {
        "id": "NhykbUgqafMg"
      }
    },
    {
      "cell_type": "markdown",
      "source": [
        "\n",
        "## Step 3: Role-Playing Scenarios"
      ],
      "metadata": {
        "id": "oSTgRHWralfE"
      }
    },
    {
      "cell_type": "markdown",
      "source": [
        "### 3.1 Design a Role-Play Scenario\n",
        "\n",
        "Role-playing involves guiding the AI to simulate interactions between different personas. We will create a scenario where Alex interacts with a dissatisfied customer."
      ],
      "metadata": {
        "id": "Jkwu11MrauoF"
      }
    },
    {
      "cell_type": "code",
      "source": [
        "# Crafting a scenario where Alex interacts with a dissatisfied customer\n",
        "scenario_prompt = \"\"\"\n",
        "You are helping a beginner Python student who is confused about how loops work in Python.\n",
        "They are feeling frustrated and need encouragement and clear guidance.\n",
        "\n",
        "student_prompt: I don't understand how loops work in Python. Can you help me?\n",
        "\n",
        "Alex:\n",
        "\"\"\""
      ],
      "metadata": {
        "id": "Hj-ab45CatX3"
      },
      "execution_count": null,
      "outputs": []
    },
    {
      "cell_type": "markdown",
      "source": [
        "#### Explanation:\n",
        "\n",
        "Role-Playing Parameters:\n",
        "\n",
        "Scenario: This is a specific situation in which the persona must operate. Here, the AI is asked to assist a beginner who is struggling with loops in Python.\n",
        "\n",
        "Contextual Guidance: The scenario provides additional context, such as the student's frustration, which the AI uses to tailor its responses.\n"
      ],
      "metadata": {
        "id": "zrbS4tHBazvg"
      }
    },
    {
      "cell_type": "markdown",
      "source": [
        "### 3.2 Create a Multi-Turn Interaction\n",
        "We can now generate a response from Alex to the customer's complaint."
      ],
      "metadata": {
        "id": "Y4uJTCYWa8kN"
      }
    },
    {
      "cell_type": "code",
      "source": [
        "# Generating a response for Alex in the role-play scenario\n",
        "response = openai.Completion.create(\n",
        "    engine=\"text-davinci-004\",\n",
        "    prompt=scenario_prompt,\n",
        "    max_tokens=150,  # Adjust the token limit based on expected response length\n",
        "    stop=[\"\\nstudent_prompt:\"]  # Stop generating when the customer is supposed to respond\n",
        ")\n",
        "\n",
        "# Print Alex's response\n",
        "print(\"Alex:\", response.choices[0].text.strip())"
      ],
      "metadata": {
        "id": "PyhRBySla7QF"
      },
      "execution_count": null,
      "outputs": []
    },
    {
      "cell_type": "markdown",
      "source": [
        "#### Explanation:\n",
        "The stop parameter is used to tell the API where to stop generating the response. In this case, we stop when the next customer turn is supposed to start, simulating a conversation."
      ],
      "metadata": {
        "id": "nuUwrLgwbCrq"
      }
    },
    {
      "cell_type": "markdown",
      "source": [
        "### 3.3 Generate the AI Response\n",
        "Conversations are often multi-turn, so let's extend the interaction by feeding the AI's response back into the prompt."
      ],
      "metadata": {
        "id": "gk_U1NUEbGKp"
      }
    },
    {
      "cell_type": "code",
      "source": [
        "response = openai.Completion.create(\n",
        "    engine=\"text-davinci-004\",\n",
        "    prompt=scenario_prompt,\n",
        "    max_tokens=150,\n",
        "    stop=[\"\\nstudent_prompt:\"]\n",
        ")\n",
        "print(\"Alex:\", response.choices[0].text.strip())"
      ],
      "metadata": {
        "id": "4oA4BOBnbG-w"
      },
      "execution_count": null,
      "outputs": []
    },
    {
      "cell_type": "markdown",
      "source": [
        "#### Explanation:\n",
        "Here, we generate the AI's response to the scenario. The stop parameter prevents the AI from continuing the conversation beyond the first response, allowing you to control the flow of the interaction."
      ],
      "metadata": {
        "id": "K6JnKteobK76"
      }
    },
    {
      "cell_type": "markdown",
      "source": [
        "## Conclusion:\n",
        "In this lab, you have learned how to create and implement personas in AI models and guide their behavior through role-playing scenarios. These techniques help make AI interactions more natural, relevant, and aligned with specific roles."
      ],
      "metadata": {
        "id": "4kyBprBHbObx"
      }
    }
  ]
}