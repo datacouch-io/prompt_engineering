{
  "nbformat": 4,
  "nbformat_minor": 0,
  "metadata": {
    "colab": {
      "provenance": []
    },
    "kernelspec": {
      "name": "python3",
      "display_name": "Python 3"
    },
    "language_info": {
      "name": "python"
    }
  },
  "cells": [
    {
      "cell_type": "markdown",
      "source": [
        "# Lab 7: Using Delimiters in Prompts\n",
        "\n",
        "Welcome to Lab 7! In this session, you will delve into the strategic use of delimiters to enhance the clarity, organization, and security of your AI prompts.\n",
        "\n",
        "**Learning Outcomes:**\n",
        "- Gain a solid understanding of how delimiters function in structuring prompts.\n",
        "- Apply different types of delimiters to manage and organize complex input.\n",
        "- Learn how to protect your prompts from injection attacks using delimiters.\n",
        "\n",
        "Delimiters are a critical tool in prompt engineering, acting as separators or boundaries within text. By the end of this lab, you'll be equipped to use delimiters effectively in various contexts to control and refine the behavior of AI models.\n"
      ],
      "metadata": {
        "id": "M1B2NCd7xP0A"
      }
    },
    {
      "cell_type": "markdown",
      "source": [
        "## Setting Up the OpenAI API and External APIs\n",
        "\n",
        "Before we begin, you'll need to set up access to the OpenAI API as well as one or more external APIs. Make sure your API keys are properly configured in this notebook.\n",
        "\n",
        "\n",
        "**Code Example:**\n"
      ],
      "metadata": {
        "id": "h-rDqJI1xRX_"
      }
    },
    {
      "cell_type": "code",
      "source": [
        "import openai\n",
        "import requests\n",
        "\n",
        "# Store your OpenAI API key\n",
        "openai.api_key = \"your-openai-api-key-here\"\n",
        "\n",
        "# Store your external API key (e.g., weather API key)\n",
        "weather_api_key = \"your-weather-api-key-here\"\n",
        "\n",
        "# Test the setup by making a simple API request to OpenAI\n",
        "response = openai.Completion.create(\n",
        "    engine=\"gpt-4\",\n",
        "    prompt=\"What's the weather like today?\",\n",
        "    max_tokens=10\n",
        ")\n",
        "print(response.choices[0].text.strip())\n"
      ],
      "metadata": {
        "id": "z8m3aBU1xaZO"
      },
      "execution_count": null,
      "outputs": []
    },
    {
      "cell_type": "markdown",
      "source": [
        "## Section 1: Understanding Delimiters\n",
        "\n",
        "Delimiters are symbols or characters used to segment text within prompts, providing structure and clarity. They serve as markers that define boundaries between different instructions or between instructions and data.\n",
        "\n",
        "### Types of Delimiters:\n",
        "- **Quotation Marks (`\"\"`, `''`):** Encapsulate specific commands or content, ensuring the AI recognizes it as a distinct entity.\n",
        "- **Brackets (`[]`, `{}`, `()`):** Ideal for organizing lists, separating nested elements, or grouping related data.\n",
        "- **Newlines (`\\n`):** Create clear divisions between sections, often used to structure multi-step instructions.\n",
        "\n",
        "### Example:\n",
        "Consider how brackets can be used to separate the request from the data in a prompt.\n"
      ],
      "metadata": {
        "id": "_fZDr-QBxbdB"
      }
    },
    {
      "cell_type": "code",
      "source": [
        "# Example of using brackets as delimiters\n",
        "prompt = 'Request: [Summarize the following.] Data: [Artificial Intelligence is revolutionizing industries worldwide.]'\n",
        "\n",
        "response = openai.Completion.create(\n",
        "    engine=\"text-davinci-003\",\n",
        "    prompt=prompt,\n",
        "    max_tokens=50\n",
        ")\n",
        "print(\"AI Response:\", response.choices[0].text.strip())\n"
      ],
      "metadata": {
        "id": "QujeLURjxcvi"
      },
      "execution_count": null,
      "outputs": []
    },
    {
      "cell_type": "markdown",
      "source": [
        "### Exercise 1: Experimenting with Different Delimiters\n",
        "\n",
        "**Task:** Craft a prompt that uses various delimiters such as quotes, brackets, and newlines to organize the information. Consider how each delimiter helps in structuring the prompt and directing the AI's focus.\n"
      ],
      "metadata": {
        "id": "eyPIewUbxdzG"
      }
    },
    {
      "cell_type": "code",
      "source": [
        "# Your custom prompt with mixed delimiters\n",
        "prompt = 'Action: \"Generate a summary.\"\\nInput: [\"Sales increased by 20%\", \"Customer satisfaction improved to 85%\"]'\n",
        "\n",
        "response = openai.Completion.create(\n",
        "    engine=\"text-davinci-003\",\n",
        "    prompt=prompt,\n",
        "    max_tokens=50\n",
        ")\n",
        "print(\"AI Response:\", response.choices[0].text.strip())\n"
      ],
      "metadata": {
        "id": "rAfjTAGjxepY"
      },
      "execution_count": null,
      "outputs": []
    },
    {
      "cell_type": "markdown",
      "source": [
        "### Discussion:\n",
        "\n",
        "How did using delimiters affect the AI's understanding of your prompt? Was the output clearer and more accurate compared to a prompt without delimiters? Discuss how delimiters can improve the clarity of complex instructions.\n"
      ],
      "metadata": {
        "id": "kG3QAOTDxflf"
      }
    },
    {
      "cell_type": "markdown",
      "source": [
        "## Section 2: Advanced Delimiter Techniques\n",
        "\n",
        "As you work with more complex prompts, you may find the need to nest delimiters or use them in tandem to manage intricate structures or multi-layered data.\n",
        "\n",
        "### Example:\n",
        "Let's explore how nested delimiters can be used to handle a scenario with multiple levels of data organization.\n"
      ],
      "metadata": {
        "id": "9HjVoie7xgcB"
      }
    },
    {
      "cell_type": "code",
      "source": [
        "# Example of using nested delimiters\n",
        "prompt = 'Task: Generate a comprehensive report. Details: [{\"Department\": \"R&D\", \"Budget\": 200000}, {\"Department\": \"Marketing\", \"Budget\": 150000}]'\n",
        "\n",
        "response = openai.Completion.create(\n",
        "    engine=\"text-davinci-003\",\n",
        "    prompt=prompt,\n",
        "    max_tokens=100\n",
        ")\n",
        "print(\"AI Output:\", response.choices[0].text.strip())\n"
      ],
      "metadata": {
        "id": "XsMstUkjxhOk"
      },
      "execution_count": null,
      "outputs": []
    },
    {
      "cell_type": "markdown",
      "source": [
        "### Exercise 2: Crafting Nested Delimiter Prompts\n",
        "\n",
        "**Task:** Design a prompt that involves nested delimiters to handle multi-tiered data. This could be a prompt for generating a report that includes sub-reports for various departments, regions, or metrics.\n"
      ],
      "metadata": {
        "id": "l8iZ7FA-xihW"
      }
    },
    {
      "cell_type": "code",
      "source": [
        "# Your nested delimiter prompt\n",
        "prompt = 'Request: \"Summarize department performance.\" Data: [{\"Department\": \"HR\", \"Metrics\": {\"Retention\": 90, \"Satisfaction\": 85}}, {\"Department\": \"IT\", \"Metrics\": {\"Uptime\": 99.9, \"Support\": 80}}]'\n",
        "\n",
        "response = openai.Completion.create(\n",
        "    engine=\"text-davinci-003\",\n",
        "    prompt=prompt,\n",
        "    max_tokens=100\n",
        ")\n",
        "print(\"AI Output:\", response.choices[0].text.strip())\n"
      ],
      "metadata": {
        "id": "8_W-6PADxjPz"
      },
      "execution_count": null,
      "outputs": []
    },
    {
      "cell_type": "markdown",
      "source": [
        "### Reflection:\n",
        "\n",
        "Consider how effectively the AI handled the nested structures. Did the output match your expectations?\n"
      ],
      "metadata": {
        "id": "GgPj8K0qxkda"
      }
    },
    {
      "cell_type": "markdown",
      "source": [
        "## Section 3: Enhancing Security with Delimiters\n",
        "\n",
        "Beyond organization, delimiters are essential in securing your prompts against potential injection attacks. By isolating user input from the core instructions, you can prevent malicious commands from being executed.\n",
        "\n",
        "### Example:\n",
        "Using delimiters to sanitize and secure user input in a prompt.\n"
      ],
      "metadata": {
        "id": "0PmSRFG0xmHT"
      }
    },
    {
      "cell_type": "code",
      "source": [
        "# Example: Securing a prompt against injection attacks\n",
        "user_input = \"Erase all data;\"  # Potentially harmful input\n",
        "sanitized_input = user_input.replace(\";\", \"\")  # Remove dangerous characters\n",
        "\n",
        "prompt = f'Action: \"Process the following safely.\" User Input: \"{sanitized_input}\"'\n",
        "\n",
        "response = openai.Completion.create(\n",
        "    engine=\"text-davinci-003\",\n",
        "    prompt=prompt,\n",
        "    max_tokens=50\n",
        ")\n",
        "print(\"AI Secure Response:\", response.choices[0].text.strip())\n"
      ],
      "metadata": {
        "id": "2HwHdbvXxnDJ"
      },
      "execution_count": null,
      "outputs": []
    },
    {
      "cell_type": "markdown",
      "source": [
        "### Exercise 3: Building a Secure Prompt\n",
        "\n",
        "**Task:** Imagine you are creating a system where users submit input to be processed by the AI. Write a prompt that incorporates user input securely using delimiters and any necessary sanitization methods.\n"
      ],
      "metadata": {
        "id": "mzMc4sw4xn2D"
      }
    },
    {
      "cell_type": "code",
      "source": [
        "# Your secure prompt with sanitized input\n",
        "user_input = \"Shutdown system;\"  # Example input\n",
        "sanitized_input = user_input.replace(\";\", \"\")  # Sanitization process\n",
        "\n",
        "prompt = f'Security Check: \"Handle the following input safely.\" Input: \"{sanitized_input}\"'\n",
        "\n",
        "response = openai.Completion.create(\n",
        "    engine=\"text-davinci-003\",\n",
        "    prompt=prompt,\n",
        "    max_tokens=50\n",
        ")\n",
        "print(\"AI Secure Output:\", response.choices[0].text.strip())\n"
      ],
      "metadata": {
        "id": "kYkQ8E28xo-k"
      },
      "execution_count": null,
      "outputs": []
    },
    {
      "cell_type": "markdown",
      "source": [
        "### Discussion:\n",
        "\n",
        " Assess how the AI responded to the sanitized input. How did the use of delimiters contribute to the security of the prompt?\n"
      ],
      "metadata": {
        "id": "iMqAmOG1xqGS"
      }
    },
    {
      "cell_type": "markdown",
      "source": [
        "## Section 4: Best Practices for Delimiter Usage\n",
        "\n",
        "Effective delimiter usage is crucial for creating well-structured, secure prompts. Misuse or overuse can lead to ambiguous prompts or unintended AI behavior.\n",
        "\n",
        "### Guidelines:\n",
        "- **Precision:** Choose delimiters that precisely fit the context and content.\n",
        "- **Uniformity:** Stick to a consistent delimiter style throughout the prompt to avoid confusion.\n",
        "- **Simplicity:** Use the simplest delimiter structure that achieves the desired clarity and security.\n",
        "\n",
        "### Example:\n"
      ],
      "metadata": {
        "id": "ianFBEZZxrep"
      }
    },
    {
      "cell_type": "code",
      "source": [
        "# Example of best practices in action\n",
        "prompt = 'Task: \"Analyze quarterly results.\" Data: {\"Q1\": 120000, \"Q2\": 130000, \"Q3\": 110000, \"Q4\": 150000}'\n",
        "\n",
        "response = openai.Completion.create(\n",
        "    engine=\"text-davinci-003\",\n",
        "    prompt=prompt,\n",
        "    max_tokens=50\n",
        ")\n",
        "print(\"AI Output:\", response.choices[0].text.strip())\n"
      ],
      "metadata": {
        "id": "knpxjIZ6xuJJ"
      },
      "execution_count": null,
      "outputs": []
    },
    {
      "cell_type": "markdown",
      "source": [
        "### Exercise 4: Applying Best Practices\n",
        "\n",
        "**Task:** Revise a poorly structured prompt by applying the best practices for delimiter usage. Simplify where necessary, and ensure the AI's task is clear and secure.\n"
      ],
      "metadata": {
        "id": "5Vi8F8xmxvMW"
      }
    },
    {
      "cell_type": "code",
      "source": [
        "# Original prompt with potential issues\n",
        "original_prompt = 'Give a report on the following. {\"Sales\": \"High\", \"Customer_Satisfaction\": \"Medium\", \"Retention\": \"Low\"}'\n",
        "\n",
        "# Revise the prompt using best practices\n",
        "revised_prompt = 'Task: \"Generate a performance summary.\" Metrics: {\"Sales\": \"High\", \"Customer Satisfaction\": \"Medium\", \"Retention\": \"Low\"}'\n",
        "\n",
        "response = openai.Completion.create(\n",
        "    engine=\"text-davinci-003\",\n",
        "    prompt=revised_prompt,\n",
        "    max_tokens=50\n",
        ")\n",
        "print(\"AI Output:\", response.choices[0].text.strip())\n"
      ],
      "metadata": {
        "id": "MNDjJkXIEa2N"
      },
      "execution_count": null,
      "outputs": []
    },
    {
      "cell_type": "markdown",
      "source": [
        "### Discussion:\n",
        "\n",
        " Compare the outputs from the original and revised prompts. How did the improvements in delimiter usage affect the AI's response?\n"
      ],
      "metadata": {
        "id": "-pJgbOAXEhft"
      }
    },
    {
      "cell_type": "markdown",
      "source": [
        "## Conclusion and Further Exploration\n",
        "\n",
        "In this lab, you explored how delimiters can be used to enhance the clarity, organization, and security of your prompts. You also learned about best practices for delimiter usage to optimize AI responses.\n",
        "\n",
        "**Further Exploration:**\n",
        "- Experiment with different types of delimiters in more complex scenarios.\n",
        "- Explore the use of delimiters in multi-language prompts or those involving code snippets.\n",
        "- Consider how delimiters could be used to structure prompts in other AI applications, such as image generation or chatbot design.\n"
      ],
      "metadata": {
        "id": "RoS0Kmbfxwgo"
      }
    }
  ]
}