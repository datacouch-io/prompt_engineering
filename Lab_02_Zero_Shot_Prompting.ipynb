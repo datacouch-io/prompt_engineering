{
  "cells": [
    {
      "cell_type": "markdown",
      "metadata": {
        "id": "29wptg9-mFsm"
      },
      "source": [
        "# Lab 2: Zero-Shot Prompting\n",
        "\n",
        "\n",
        "Welcome to Lab 2! Zero-Shot Prompting. In this lab, we will explore the concept of zero-shot prompting, a technique where you provide a prompt without any examples, and the AI generates a response based solely on the information in the prompt. This lab will help you understand how to craft effective prompts and recognize the limitations and capabilities of AI models in a zero-shot context.\n",
        "\n",
        "**Why This Matters:**\n",
        "Zero-shot prompting is a powerful tool in AI, especially when you need the model to perform tasks without prior examples. However, it requires a deep understanding of how to structure prompts effectively to get the desired outcome. By mastering this technique, you’ll be better equipped to leverage AI in various real-world scenarios.\n",
        "\n",
        "**Learning Objectives:**\n",
        "- **Craft Basic Prompts:** Learn to create clear and effective prompts without providing examples.\n",
        "- **Understand Model Limitations:** Recognize the limitations of zero-shot prompting and how to work within these constraints.\n",
        "- **Evaluate AI Capabilities:** Assess how well AI models perform in zero-shot scenarios and understand the factors that influence the quality of the output.\n"
      ]
    },
    {
      "cell_type": "markdown",
      "metadata": {
        "id": "b1pzkAcRskbI"
      },
      "source": [
        "## Crafting Basic Prompts\n",
        "\n",
        "In this section, we will focus on the essentials of crafting prompts for a zero-shot scenario. The key is to be clear, concise, and direct with your request.\n",
        "\n",
        "**What is Zero-Shot Prompting?**\n",
        "\n",
        "Zero-shot prompting refers to asking an AI model to perform a task without providing any examples in the prompt. The AI uses its pre-existing knowledge to generate a response based on the given prompt.\n",
        "\n",
        "\n",
        "**Code Example:**\n",
        "Let’s start with a simple task, Ask the AI to write a short story.\n"
      ]
    },
    {
      "cell_type": "code",
      "execution_count": null,
      "metadata": {
        "id": "AXrT_keqmFsr"
      },
      "outputs": [],
      "source": [
        "import openai\n",
        "\n",
        "# Store your OpenAI API key\n",
        "openai.api_key = \"your-api-key-here\"\n",
        "\n",
        "# Zero-shot prompt example\n",
        "prompt = \"Explain what cloud computing is and its benefits.\"\n",
        "\n",
        "response = openai.Completion.create(\n",
        "    engine=\"gpt-4\",\n",
        "    prompt=prompt,\n",
        "    max_tokens=100\n",
        ").choices[0].text.strip()\n",
        "\n",
        "print(\"Zero-Shot Response:\", response)"
      ]
    },
    {
      "cell_type": "markdown",
      "metadata": {
        "id": "4xgVvcRomFss"
      },
      "source": [
        "## Exercise 1: Crafting Your Own Zero-Shot Prompts\n",
        "\n",
        "**Task:** Write a prompt asking the AI to generate an article on the benefits of remote work. Keep it simple and direct.\n",
        "\n",
        "**Prompt:**\n"
      ]
    },
    {
      "cell_type": "code",
      "execution_count": null,
      "metadata": {
        "id": "K5C1ipPitHXY"
      },
      "outputs": [],
      "source": [
        "# Your zero-shot prompt\n",
        "prompt = \"Write an article about the advantages of using containerization in software development.\"\n",
        "\n",
        "# Generating the response\n",
        "response = openai.Completion.create(\n",
        "    engine=\"gpt-4\",\n",
        "    prompt=prompt,\n",
        "    max_tokens=150\n",
        ").choices[0].text.strip()\n",
        "\n",
        "print(\"Response:\", response)"
      ]
    },
    {
      "cell_type": "markdown",
      "source": [
        "**Discussion:** How did the AI respond to your zero-shot prompt? Was the output relevant and complete? Discuss with a partner or group what worked well and what could be improved.\n"
      ],
      "metadata": {
        "id": "kMcV0gBOtWFn"
      }
    },
    {
      "cell_type": "markdown",
      "metadata": {
        "id": "qMozd6vHswzH"
      },
      "source": [
        "## Section 2: Understanding Model Limitations and Capabilities\n",
        "\n",
        "Zero-shot prompting can be powerful, but it also has its limitations. In this section, we’ll explore these limitations and how they impact the results.\n",
        "\n",
        "**Model Limitations:**\n",
        "\n",
        "- **Lack of Specificity:** Without examples, the AI may produce generic or overly broad responses.\n",
        "- **Context Gaps:** The AI may lack context, leading to incomplete or incorrect answers.\n",
        "- **Complex Tasks:** For more complex tasks, the AI might struggle to produce accurate results without detailed guidance.\n",
        "\n",
        "**Example:** Ask the AI to perform a complex task, such as designing a database schema.\n",
        "\n"
      ]
    },
    {
      "cell_type": "code",
      "execution_count": null,
      "metadata": {
        "id": "zNpJjtGpmFss"
      },
      "outputs": [],
      "source": [
        "# Complex zero-shot prompt example\n",
        "prompt = \"Design a database schema for an e-commerce website.\"\n",
        "\n",
        "response = openai.Completion.create(\n",
        "    engine=\"gpt-4\",\n",
        "    prompt=prompt,\n",
        "    max_tokens=150\n",
        ").choices[0].text.strip()\n",
        "\n",
        "print(\"Complex Task Response:\", response)"
      ]
    },
    {
      "cell_type": "markdown",
      "metadata": {
        "id": "cCcnV1QimFst"
      },
      "source": [
        "### Exercise 2: Exploring Model Capabilities and Limitations\n",
        "\n",
        "**Task:** Create a zero-shot prompt for a specific task, such as summarizing a scientific article. Observe how the AI handles the task and identify any limitations.\n",
        "\n",
        "**Your Prompt:**"
      ]
    },
    {
      "cell_type": "code",
      "execution_count": null,
      "metadata": {
        "id": "FUYWI2tCmFst"
      },
      "outputs": [],
      "source": [
        "# Your zero-shot prompt\n",
        "prompt = \"Summarize the architecture of a microservices-based application.\"\n",
        "\n",
        "# Generating the response\n",
        "response = openai.Completion.create(\n",
        "    engine=\"gpt-4\",\n",
        "    prompt=prompt,\n",
        "    max_tokens=150\n",
        ").choices[0].text.strip()\n",
        "\n",
        "print(\"Response:\", response)"
      ]
    },
    {
      "cell_type": "markdown",
      "metadata": {
        "id": "iIKuHKkmmFst"
      },
      "source": [
        "### Discussion:\n",
        "\n",
        "Did the AI capture the key points in its summary? What limitations did you notice in the response? How could you refine the prompt to improve the output?"
      ]
    },
    {
      "cell_type": "markdown",
      "metadata": {
        "id": "jqF-whKwmFsu"
      },
      "source": [
        "## Section 3: Evaluating AI Capabilities\n",
        "\n",
        "Now that you’ve experimented with zero-shot prompts, it’s time to evaluate how well the AI performs in these scenarios.\n",
        "\n",
        "### Evaluation Criteria:\n",
        "\n",
        "- **Relevance:** Does the response stay on topic?\n",
        "- **Completeness:** Does the AI cover all necessary aspects of the task?\n",
        "- **Creativity:** How creative or original is the AI’s output?\n",
        "\n",
        "### Exercise 3: Evaluating Your Prompts\n",
        "\n",
        "**Task:** Review the responses generated in previous exercises. Rate each response on relevance, completeness, and creativity. Share your evaluations with a partner or group.\n",
        "\n",
        "**Reflection:**\n",
        "Based on your evaluations, how well did the AI perform in zero-shot scenarios? What were its strengths and weaknesses? What strategies could you use to improve future zero-shot prompts?"
      ]
    },
    {
      "cell_type": "markdown",
      "metadata": {
        "id": "hlhC7umgmFsw"
      },
      "source": [
        "## Section 4: Best Practices for Zero-Shot Prompting\n",
        "\n",
        "As you continue to work with zero-shot prompting, keep these best practices in mind:\n",
        "\n",
        "- **Be Clear and Direct:** The simpler the prompt, the more likely the AI will produce a coherent response.\n",
        "- **Know the Limitations:** Be aware that the AI may struggle with complex or highly specific tasks without detailed instructions.\n",
        "- **Iterate and Refine:** Don’t be afraid to adjust your prompts based on the AI’s initial output.\n",
        "\n"
      ]
    },
    {
      "cell_type": "markdown",
      "metadata": {
        "id": "0P5xGsiOmFsw"
      },
      "source": [
        "### Interactive Quiz: Spot the Mistake\n",
        "\n",
        "Test your understanding of zero-shot prompting with the following quiz questions:\n",
        "\n",
        "- What is the main advantage of zero-shot prompting?\n",
        "- Why might an AI struggle with zero-shot prompts for complex tasks?\n",
        "- How can you improve the output of a zero-shot prompt?\n"
      ]
    },
    {
      "cell_type": "markdown",
      "metadata": {
        "id": "i_BGTfi2mFsw"
      },
      "source": [
        "### Summary:\n",
        "\n",
        "Zero-shot prompting is a valuable technique, but it requires careful consideration of the AI’s capabilities and limitations. By crafting clear, focused prompts and understanding the model’s strengths and weaknesses, you can achieve effective results in various scenarios."
      ]
    },
    {
      "cell_type": "markdown",
      "metadata": {
        "id": "8GKZgy9bmFsw"
      },
      "source": [
        "## Conclusion and Next Steps\n",
        "\n",
        "Congratulations on completing **Lab 2: Zero-Shot Prompting!** You’ve learned how to craft basic prompts, explored the limitations of zero-shot prompting, and evaluated the AI’s capabilities.\n",
        "\n",
        "**Key Takeaways:**\n",
        "- Zero-shot prompting involves providing a prompt without examples, relying on the AI’s pre-existing knowledge.\n",
        "- Understanding the limitations of AI models is crucial for effective zero-shot prompting.\n",
        "- Clear and direct prompts yield better results in zero-shot scenarios.\n",
        "\n",
        "**Next Steps:**\n",
        "- Continue experimenting with zero-shot prompting in different contexts.\n",
        "- Explore the use of examples in prompts to improve specificity and accuracy.\n",
        "- Share your findings with peers to enhance your understanding of prompt engineering.\n",
        "\n",
        "In the next lab, we’ll dive into **Few-Shot Prompting**—where you’ll learn how to provide examples to guide the AI towards more accurate responses.\n",
        "\n"
      ]
    },
    {
      "cell_type": "markdown",
      "metadata": {
        "id": "x-PqWaQqmFsx"
      },
      "source": [
        "### Final Discussion:\n",
        "\n",
        "How has your understanding of zero-shot prompting evolved through this lab? What challenges did you encounter, and how did you overcome them? Share your experiences and insights with the class.\n",
        "\n"
      ]
    }
  ],
  "metadata": {
    "language_info": {
      "name": "python"
    },
    "colab": {
      "provenance": []
    }
  },
  "nbformat": 4,
  "nbformat_minor": 0
}