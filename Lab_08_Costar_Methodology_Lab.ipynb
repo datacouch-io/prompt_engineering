{
 "cells": [
  {
   "cell_type": "markdown",
   "id": "e37534c0-1870-4947-a486-b9f709f5ccc9",
   "metadata": {},
   "source": [
    "# COSTAR Methodology Lab\n",
    "\n",
    "The COSTAR methodology is a structured approach to prompt engineering that helps guide large language models (LLMs) to produce accurate, relevant, and well-structured outputs. COSTAR stands for Context, Objective, Style, Tone, Audience, and Response. Each of these components plays a critical role in shaping the prompt to achieve the desired outcome.\n",
    "\n",
    "In this lab, we will explore the COSTAR methodology in detail, implement examples with code, and see how this approach can be used effectively in prompt engineering.\n",
    "\n",
    "\n",
    "### 1. Introduction to COSTAR Methodology\n",
    "\n",
    "**What is COSTAR?**\n",
    "\n",
    "COSTAR is a framework designed to help prompt engineers create structured and effective prompts for LLMs. By providing clear guidelines for each component of the prompt, COSTAR ensures that the model’s output aligns with the user’s intent.\n",
    "\n",
    "**Why use COSTAR?**\n",
    "\n",
    "-   **Clarity:**  COSTAR helps break down complex tasks into manageable components.\n",
    "-   **Precision:**  By specifying the objective, style, tone, audience, and response format, you can guide the model to produce highly relevant outputs.\n",
    "-   **Flexibility:**  COSTAR can be applied to various tasks, from content creation to technical problem-solving.\n",
    "\n",
    "\n",
    "### 2. Breakdown of COSTAR Components\n",
    "\n",
    "**Context ( C ):**\n",
    "\n",
    "Providing background information that helps the LLM understand the specific scenario, ensuring relevance in its responses.\n",
    "\n",
    "Example:\n",
    "\n",
    "```\n",
    "context = \"You are a customer service representative for a software company.\"\n",
    "```\n",
    "\n",
    "**Objective (O):**\n",
    "\n",
    "Clearly defining the task directs the LLM’s focus to meet that specific goal.\n",
    "\n",
    "Example:\n",
    "\n",
    "```\n",
    "objective = \"Your task is to respond to a customer inquiry about a software bug.\"\n",
    "``` \n",
    "\n",
    "**Style (S):**\n",
    "\n",
    "Specifying the desired writing style, such as formal, informal, or technical.\n",
    "\n",
    "Example:\n",
    "\n",
    "```\n",
    "style = \"Write in a professional and empathetic tone.\"\n",
    "```\n",
    "\n",
    "**Tone (T):**\n",
    "\n",
    "Setting the tone ensures the response resonates with the required sentiment, whether it be formal, humorous, or empathetic.\n",
    "\n",
    "Example:\n",
    "\n",
    "```\n",
    "tone = \"Maintain a calm and reassuring tone.\"\n",
    "```\n",
    "\n",
    "**Audience (A):**\n",
    "\n",
    "Identifying the intended audience tailors the LLM’s response to be appropriate and understandable for specific groups.\n",
    "\n",
    "Example:\n",
    "\n",
    "```\n",
    "audience = \"The audience is a non-technical customer who may be frustrated with the issue.\"\n",
    "``` \n",
    "\n",
    "**Response (R):**\n",
    "\n",
    "Providing the response format, like a list or JSON, ensures the LLM outputs in the required structure for downstream tasks.\n",
    "\n",
    "Example:\n",
    "\n",
    "```\n",
    "response_format = \"Respond in a short paragraph.\"\n",
    "```"
   ]
  },
  {
   "cell_type": "code",
   "execution_count": 3,
   "id": "19900aef-1884-4286-9381-3e8fa1e51935",
   "metadata": {
    "tags": []
   },
   "outputs": [],
   "source": [
    "import openai\n",
    "\n",
    "# Set up your OpenAI API key\n",
    "openai.api_key = \"\""
   ]
  },
  {
   "cell_type": "markdown",
   "id": "fc44a97d-6e6b-49ef-a67f-3d77a75af5bc",
   "metadata": {},
   "source": [
    "### 3. Implementing COSTAR in Code\n",
    "\n",
    "#### Example 1: Writing a Product Description\n",
    "\n",
    "You want to generate a product description for a new fitness tracker using the COSTAR methodology."
   ]
  },
  {
   "cell_type": "code",
   "execution_count": 4,
   "id": "b02a0e10-f682-40c0-89d1-9d9f290007d5",
   "metadata": {
    "tags": []
   },
   "outputs": [
    {
     "name": "stdout",
     "output_type": "stream",
     "text": [
      "Hey there fitness aficionados! \n",
      "\n",
      "Meet our all-new fitness tracker - your ultimate workout buddy. It's not just a gadget, it's a 24/7 fitness coach, sleep analyst, and health monitor rolled into one sleek package. Whether you're sweating it out at the gym, taking a peaceful yoga class, or catching some Z's after a long day, this tracker's got your back! With real-time heart rate monitoring, sleep tracking, and step counting features, you'll get all the insights you need to reach your health goals. Plus, it's waterproof, because we know you're not afraid to break a sweat! Get ready to make every workout count and take your fitness game to a whole new level with our new fitness tracker\n"
     ]
    }
   ],
   "source": [
    "\n",
    "# Define the COSTAR components\n",
    "context = \"You are a product marketing specialist.\"\n",
    "objective = \"Create a product description for a new fitness tracker.\"\n",
    "style = \"Use a casual and engaging writing style.\"\n",
    "tone = \"The tone should be enthusiastic and motivating.\"\n",
    "audience = \"Target audience is fitness enthusiasts aged 18-35.\"\n",
    "response_format = \"The response should be a short paragraph.\"\n",
    "\n",
    "# Combine COSTAR components into a message\n",
    "messages = [\n",
    "    {\"role\": \"system\", \"content\": f\"Context: {context}\"},\n",
    "    {\"role\": \"user\", \"content\": f\"Objective: {objective}\\nStyle: {style}\\nTone: {tone}\\nAudience: {audience}\\nResponse: {response_format}\"}\n",
    "]\n",
    "\n",
    "# Call OpenAI's Chat API\n",
    "def get_openai_chat_completion(messages):\n",
    "    response = openai.ChatCompletion.create(\n",
    "        model=\"gpt-4\",\n",
    "        messages=messages,\n",
    "        max_tokens=150,\n",
    "        temperature=0.7\n",
    "    )\n",
    "    return response['choices'][0]['message']['content'].strip()\n",
    "\n",
    "# Generate the product description\n",
    "product_description = get_openai_chat_completion(messages)\n",
    "print(product_description)\n"
   ]
  },
  {
   "cell_type": "markdown",
   "id": "11687b54-70e7-46d7-bc3c-59e1fd7368d4",
   "metadata": {},
   "source": [
    "#### Example 2: Creating a Marketing Email\n",
    "\n",
    "Generate a marketing email to promote a discount on a new line of eco-friendly products."
   ]
  },
  {
   "cell_type": "code",
   "execution_count": 5,
   "id": "9fdb9969-8b60-4d89-b8f3-675ee6d52555",
   "metadata": {
    "tags": []
   },
   "outputs": [
    {
     "name": "stdout",
     "output_type": "stream",
     "text": [
      "Subject: Let's Make a Change Together - Enjoy 20% Off on Our New Eco-Friendly Products!\n",
      "\n",
      "Dear Valued Customer,\n",
      "\n",
      "We hope this email finds you well. We are writing to you because we believe in the power of individual actions to combat environmental challenges. As a fellow advocate for the environment, we thought you'd appreciate hearing about our latest initiative.\n",
      "\n",
      "We're excited to introduce our new line of eco-friendly products designed with sustainability at the forefront. From everyday household items to personal care products, our range is crafted to help you reduce your carbon footprint without sacrificing quality or convenience. And to celebrate this launch, we're offering an exclusive 20% discount for our loyal customers like you!\n",
      "\n",
      "These products not only align with your environmental values but\n"
     ]
    }
   ],
   "source": [
    "# Define the COSTAR components\n",
    "context = \"You are a marketing manager for an eco-friendly product company.\"\n",
    "objective = \"Write an email promoting a 20% discount on our new eco-friendly product line.\"\n",
    "style = \"The style should be persuasive and friendly.\"\n",
    "tone = \"The tone should be positive and encouraging.\"\n",
    "audience = \"Target audience is environmentally conscious consumers.\"\n",
    "response_format = \"The email should be structured with a greeting, body, and closing.\"\n",
    "\n",
    "# Combine COSTAR components into a message\n",
    "messages = [\n",
    "    {\n",
    "        \"role\": \"system\",\n",
    "        \"content\": \"You are an expert email writer.\"\n",
    "    },\n",
    "    {\n",
    "        \"role\": \"user\",\n",
    "        \"content\": f\"\"\"\n",
    "        Context: {context}\n",
    "        Objective: {objective}\n",
    "        Style: {style}\n",
    "        Tone: {tone}\n",
    "        Audience: {audience}\n",
    "        Response: {response_format}\n",
    "        \"\"\"\n",
    "    }\n",
    "]\n",
    "\n",
    "# Generate the marketing email\n",
    "email = get_openai_chat_completion(messages)\n",
    "print(email)\n"
   ]
  },
  {
   "cell_type": "markdown",
   "id": "3b621339-8bbe-47e4-bfd1-69f2634a29c3",
   "metadata": {},
   "source": [
    "\n",
    "#### Example 3: Crafting a Social Media Post\n",
    "\n",
    "Generate a social media post to announce the launch of a new app feature."
   ]
  },
  {
   "cell_type": "code",
   "execution_count": 6,
   "id": "2e3034b3-4fd4-4117-9e66-758f473ea975",
   "metadata": {},
   "outputs": [
    {
     "name": "stdout",
     "output_type": "stream",
     "text": [
      "🎉📲 Exciting news, tech enthusiasts! We've just launched a fantastic new feature on our mobile app that we're thrilled to share with you.\n",
      "\n",
      "Our team has been working tirelessly to enhance your user experience and we're sure you're going to love what we've done. This new feature is designed to tailor your in-app experience, making it more personalized and intuitive than ever before.\n",
      "\n",
      "So, what are you waiting for? Dive in now and explore! We can't wait to hear what you think. Don't forget to share your experiences using #NewAppFeature. Happy exploring! 🚀💡 #TechUpdate #Innovation #UserExperience\n"
     ]
    }
   ],
   "source": [
    "# Define the COSTAR components\n",
    "context = \"You are the social media manager for a tech company.\"\n",
    "objective = \"Create a social media post to announce a new feature in our mobile app.\"\n",
    "style = \"The style should be engaging and informative.\"\n",
    "tone = \"The tone should be excited and user-friendly.\"\n",
    "audience = \"Target audience is current app users and tech enthusiasts.\"\n",
    "response_format = \"The post should be concise and include a call to action.\"\n",
    "\n",
    "# Combine COSTAR components into a chat message\n",
    "messages = [\n",
    "    {\n",
    "        \"role\": \"system\",\n",
    "        \"content\": \"You are a creative social media manager.\"\n",
    "    },\n",
    "    {\n",
    "        \"role\": \"user\",\n",
    "        \"content\": f\"\"\"\n",
    "        Context: {context}\n",
    "        Objective: {objective}\n",
    "        Style: {style}\n",
    "        Tone: {tone}\n",
    "        Audience: {audience}\n",
    "        Response: {response_format}\n",
    "        \"\"\"\n",
    "    }\n",
    "]\n",
    "\n",
    "# Generate the social media post\n",
    "social_media_post = get_openai_chat_completion(messages)\n",
    "print(social_media_post)"
   ]
  },
  {
   "cell_type": "markdown",
   "id": "3da83abb-5b26-4791-bae7-b66b6fa0fd5a",
   "metadata": {},
   "source": [
    "\n",
    "### 4. Advanced Techniques Using COSTAR\n",
    "\n",
    "**Combining COSTAR with Chain of Thought (CoT) Prompting:**\n",
    "\n",
    "You can enhance the effectiveness of COSTAR by integrating it with Chain of Thought (CoT) prompting. This approach encourages the model to reason through the problem step by step, leading to more accurate and logical responses."
   ]
  },
  {
   "cell_type": "code",
   "execution_count": 7,
   "id": "1fb14bd5-f92d-4788-b5f6-1c3b7770a6ee",
   "metadata": {
    "tags": []
   },
   "outputs": [
    {
     "name": "stdout",
     "output_type": "stream",
     "text": [
      "Hello,\n",
      "\n",
      "I understand you're having trouble connecting to your Wi-Fi, and I'm here to help. Don't worry, we'll go through this process step by step. \n",
      "\n",
      "1. **Check Wi-Fi is turned on**: Make sure your device's Wi-Fi setting is turned on. This can usually be found in the settings menu. Look for an icon that resembles a dot with curved lines radiating out from it.\n",
      "\n",
      "2. **Check your network**: Ensure you're trying to connect to the correct network. Your Wi-Fi network will usually be named after your Internet Service Provider or the brand of your router, unless you've changed it to a custom name.\n",
      "\n",
      "3. **Check password**: If your network is password protected, make sure you're\n"
     ]
    }
   ],
   "source": [
    "# Define the COSTAR components\n",
    "context = \"You are a technical support agent.\"\n",
    "objective = \"Help a customer troubleshoot a Wi-Fi connectivity issue.\"\n",
    "style = \"Use a clear and instructional writing style.\"\n",
    "tone = \"The tone should be calm and supportive.\"\n",
    "audience = \"The customer is not tech-savvy.\"\n",
    "response_format = \"Provide step-by-step troubleshooting instructions.\"\n",
    "\n",
    "# Combine COSTAR components into a chat message with Chain of Thought\n",
    "messages = [\n",
    "    {\n",
    "        \"role\": \"system\",\n",
    "        \"content\": \"You are a knowledgeable and patient technical support agent.\"\n",
    "    },\n",
    "    {\n",
    "        \"role\": \"user\",\n",
    "        \"content\": f\"\"\"\n",
    "        Context: {context}\n",
    "        Objective: {objective}\n",
    "        Style: {style}\n",
    "        Tone: {tone}\n",
    "        Audience: {audience}\n",
    "        Response: {response_format}\n",
    "\n",
    "        Think step by step and provide a detailed sequence of actions the customer should take.\n",
    "        \"\"\"\n",
    "    }\n",
    "]\n",
    "\n",
    "# Generate the troubleshooting steps\n",
    "troubleshooting_steps = get_openai_chat_completion(messages)\n",
    "print(troubleshooting_steps)"
   ]
  },
  {
   "cell_type": "markdown",
   "id": "2dbbc006-05bd-4a02-a436-78949bc6120e",
   "metadata": {},
   "source": [
    "\n",
    "**Integrating COSTAR with External APIs:**\n",
    "\n",
    "You can also combine COSTAR with external APIs to create more complex and dynamic prompts. For example, integrating weather or stock market data into a prompt to generate relevant content based on real-time information."
   ]
  },
  {
   "cell_type": "code",
   "execution_count": 8,
   "id": "e4682fd6-262d-40f5-97dc-b75df42d0fb9",
   "metadata": {
    "tags": []
   },
   "outputs": [
    {
     "name": "stdout",
     "output_type": "stream",
     "text": [
      "Title: \"Sunny San Francisco: The Ultimate Guide to Exploring the Golden City\"\n",
      "\n",
      "Hello, fellow adventurers!\n",
      "\n",
      "If you're reading this, you're probably planning your next thrilling escapade. Today, we're off to the city by the bay, where the weather is a perfect 75°F, and the sun is shining brighter than ever - San Francisco!\n",
      "\n",
      "Introduction\n",
      "\n",
      "San Francisco, steeped in history and bursting with vibrant culture, is a city that never ceases to amaze. Whether it's your first visit or you're a seasoned San Fran fan, the city's sunny weather is a golden ticket to a world of exploration and adventure. So, grab your sunglasses and let's dive into the best activities to do on a perfect,\n"
     ]
    }
   ],
   "source": [
    "# Function to get weather data from an API (simulated here)\n",
    "def get_weather_data(location):\n",
    "    # Placeholder for actual API call\n",
    "    return \"Sunny, 75°F\"\n",
    "\n",
    "# Define the COSTAR components\n",
    "context = \"You are a travel blogger.\"\n",
    "objective = \"Write a blog post about the best activities to do in a city based on the current weather.\"\n",
    "style = \"The style should be casual and informative.\"\n",
    "tone = \"The tone should be upbeat and adventurous.\"\n",
    "audience = \"Target audience is young adults planning their next vacation.\"\n",
    "response_format = \"The blog post should be structured with an introduction, body, and conclusion.\"\n",
    "\n",
    "# Get the current weather data\n",
    "location = \"San Francisco\"\n",
    "weather = get_weather_data(location)\n",
    "\n",
    "# Combine COSTAR components into a chat message\n",
    "messages = [\n",
    "    {\n",
    "        \"role\": \"system\",\n",
    "        \"content\": \"You are a creative and knowledgeable travel blogger.\"\n",
    "    },\n",
    "    {\n",
    "        \"role\": \"user\",\n",
    "        \"content\": f\"\"\"\n",
    "        Context: {context}\n",
    "        Objective: {objective}\n",
    "        Style: {style}\n",
    "        Tone: {tone}\n",
    "        Audience: {audience}\n",
    "        Response: {response_format}\n",
    "\n",
    "        Current Weather in {location}: {weather}\n",
    "        \"\"\"\n",
    "    }\n",
    "]\n",
    "\n",
    "\n",
    "# Generate the blog post\n",
    "blog_post = get_openai_chat_completion(messages)\n",
    "print(blog_post)\n"
   ]
  },
  {
   "cell_type": "markdown",
   "id": "a7ecf884-9cd9-4ae1-a073-4a51b8ab1e8f",
   "metadata": {},
   "source": [
    "## 5. Conclusion\n",
    "The COSTAR methodology provides a robust framework for prompt engineering, ensuring that your prompts are clear, focused, and effective. By breaking down complex tasks into manageable components, you can guide large language models to produce high-quality outputs tailored to specific goals and audiences.\n",
    "\n",
    "This lab has demonstrated how to apply the COSTAR methodology in various scenarios, from writing product descriptions and marketing emails to crafting social media posts and troubleshooting guides. By integrating advanced techniques like Chain of Thought prompting and external API data, you can further enhance the capabilities of your prompts.\n",
    "\n",
    "Experiment with different combinations of COSTAR components and explore how this methodology can be adapted to suit your unique needs. With practice, you'll unlock the full potential of large language models, making them powerful tools for a wide range of applications."
   ]
  },
  {
   "cell_type": "code",
   "execution_count": null,
   "id": "eee50aa2-ee65-4dd4-a008-5e49ddf3090f",
   "metadata": {},
   "outputs": [],
   "source": []
  }
 ],
 "metadata": {
  "kernelspec": {
   "display_name": "Python 3 (ipykernel)",
   "language": "python",
   "name": "python3"
  },
  "language_info": {
   "codemirror_mode": {
    "name": "ipython",
    "version": 3
   },
   "file_extension": ".py",
   "mimetype": "text/x-python",
   "name": "python",
   "nbconvert_exporter": "python",
   "pygments_lexer": "ipython3",
   "version": "3.11.5"
  }
 },
 "nbformat": 4,
 "nbformat_minor": 5
}
