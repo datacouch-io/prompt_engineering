{
  "nbformat": 4,
  "nbformat_minor": 0,
  "metadata": {
    "colab": {
      "provenance": []
    },
    "kernelspec": {
      "name": "python3",
      "display_name": "Python 3"
    },
    "language_info": {
      "name": "python"
    }
  },
  "cells": [
    {
      "cell_type": "markdown",
      "source": [
        "# **Lab 16: Data Extraction and Analysis with Azure OpenAI**\n",
        "\n",
        "Welcome to Lab 16! In this lab, we will focus on using OpenAI API to extract and analyze data from text. We'll start by designing prompts to extract structured data from unstructured text and then move on to converting that unstructured text into actionable insights.\n",
        "\n",
        "By the end of this lab, you’ll gain hands-on experience in:\n",
        "\n",
        "\n",
        "\n",
        "1.   **Designing Prompts for Extracting Structured Data:** Learn how to create prompts that help in extracting structured data, such as lists, tables, or key-value pairs, from raw text.\n",
        "\n",
        "2.   **Converting Unstructured Text into Actionable Insights:** Understand how to transform unstructured text into summaries, insights, and other actionable data points.\n",
        "\n",
        "\n"
      ],
      "metadata": {
        "id": "Es2qTQ1hJGpj"
      }
    },
    {
      "cell_type": "markdown",
      "source": [
        "# **Step 1: Setting Up the Environment**\n",
        "In this step, we'll configure our environment to interact with Azure OpenAI. We'll retrieve the necessary configurations, such as the API key and endpoint, from environment variables. This ensures that sensitive information is managed securely and flexibly.\n"
      ],
      "metadata": {
        "id": "hoBAL8ovJXWc"
      }
    },
    {
      "cell_type": "code",
      "execution_count": null,
      "metadata": {
        "id": "_ZQrgiAZE9jz"
      },
      "outputs": [],
      "source": [
        "import openai\n",
        "\n",
        "# Set up your OpenAI API key\n",
        "openai.api_key = \"your-api-key-here\"\n"
      ]
    },
    {
      "cell_type": "markdown",
      "source": [
        "# **Step 2: Designing Prompts for Extracting Structured Data**\n",
        "In this section, we will create functions that extract structured data from unstructured text. For example, we might extract a list of ingredients from a recipe or a table of statistics from a report.\n",
        "\n"
      ],
      "metadata": {
        "id": "lp8yzUunJcJJ"
      }
    },
    {
      "cell_type": "markdown",
      "source": [
        "## 2.1 Extracting a List from Text\n",
        "We will begin by extracting a list of items from a block of text."
      ],
      "metadata": {
        "id": "_2ppu5peJeu5"
      }
    },
    {
      "cell_type": "code",
      "source": [
        "def extract_list_from_text(text):\n",
        "    # Create a prompt to extract a list from the text\n",
        "    prompt = f\"Extract a list of items from the following text:\\n\\n{text}\\n\\nProvide the list in bullet points.\"\n",
        "\n",
        "    # Call the Azure OpenAI API with the prompt\n",
        "    response = openai.Completion.create(\n",
        "        engine=\"gpt-4\",  # Specify the language model\n",
        "        prompt=prompt,  # Pass the prompt to the model\n",
        "        max_tokens=100,  # Limit the response length\n",
        "        n=1,  # Generate a single response\n",
        "        stop=None,  # Don't stop the generation prematurely\n",
        "        temperature=0.3  # Keep creativity low for accurate extraction\n",
        "    )\n",
        "\n",
        "    # Extract the list from the response\n",
        "    extracted_list = response.choices[0].text.strip()\n",
        "    return extracted_list\n",
        "\n",
        "# Example usage\n",
        "text = \"The shopping list includes apples, oranges, bananas, milk, and bread.\"\n",
        "print(extract_list_from_text(text))\n"
      ],
      "metadata": {
        "id": "juX_nomOJgpE"
      },
      "execution_count": null,
      "outputs": []
    },
    {
      "cell_type": "markdown",
      "source": [
        "### **Explanation of the Code**\n",
        "- **Function Purpose:** The `extract_list_from_text` function is designed to extract a list of items from unstructured text. This is useful in scenarios where data needs to be extracted in a structured format.\n",
        "- **Prompt Creation:** The prompt explicitly asks the model to extract and present a list in bullet points, ensuring clarity and structure in the response.\n",
        "- **API Call:** The API call is configured with a low temperature (0.3) to ensure that the response is focused and accurate, minimizing creative deviations.\n",
        "- **Response Extraction:** The response is cleaned up and formatted as a list, which is then returned as the final output.\n"
      ],
      "metadata": {
        "id": "CRwFwj8MJj8u"
      }
    },
    {
      "cell_type": "markdown",
      "source": [
        "## 2.2 Extracting Key-Value Pairs from Text\n",
        "Next, we'll extract key-value pairs from a paragraph. This is particularly useful for pulling out specific information like dates, names, or statistics from reports or articles.\n"
      ],
      "metadata": {
        "id": "QsJD0OeEJnyH"
      }
    },
    {
      "cell_type": "code",
      "source": [
        "def extract_key_value_pairs(text):\n",
        "    # Create a prompt to extract key-value pairs from the text\n",
        "    prompt = f\"Extract key-value pairs from the following text:\\n\\n{text}\\n\\nProvide the pairs in the format: 'Key: Value'.\"\n",
        "\n",
        "    # Call the Azure OpenAI API with the prompt\n",
        "    response = openai.Completion.create(\n",
        "        engine=\"gpt-4\",  # Specify the language model\n",
        "        prompt=prompt,  # Pass the prompt to the model\n",
        "        max_tokens=150,  # Limit the response length\n",
        "        n=1,  # Generate a single response\n",
        "        stop=None,  # Don't stop the generation prematurely\n",
        "        temperature=0.3  # Keep creativity low for accurate extraction\n",
        "    )\n",
        "\n",
        "    # Extract the key-value pairs from the response\n",
        "    extracted_pairs = response.choices[0].text.strip()\n",
        "    return extracted_pairs\n",
        "\n",
        "# Example usage\n",
        "text = \"John Doe was born on January 1, 1980, and currently lives in New York City. He works as a software engineer at TechCorp.\"\n",
        "print(extract_key_value_pairs(text))\n"
      ],
      "metadata": {
        "id": "42rFwt5aJqcA"
      },
      "execution_count": null,
      "outputs": []
    },
    {
      "cell_type": "markdown",
      "source": [
        "### **Explanation of the Code**\n",
        "- **Function Purpose:** The `extract_key_value_pairs` function is designed to pull out specific information in the form of key-value pairs from unstructured text.\n",
        "- **Prompt Creation:** The prompt asks the model to extract and present information in the \"Key: Value\" format, making the output structured and easy to interpret.\n",
        "- **API Call:** Similar to the previous function, a low temperature (0.3) is used to ensure that the output remains focused and accurate.\n",
        "- **Response Extraction:** The extracted key-value pairs are formatted and returned for further analysis or reporting.\n"
      ],
      "metadata": {
        "id": "tRF_e4mxJuXR"
      }
    },
    {
      "cell_type": "markdown",
      "source": [
        "# **Step 3: Converting Unstructured Text into Actionable Insights**\n",
        "In this section, we will create functions that help transform unstructured text into summaries, insights, or other actionable data points. This can be extremely useful in scenarios where large volumes of text need to be condensed into key takeaways.\n",
        "\n",
        "\n"
      ],
      "metadata": {
        "id": "2NSNVEuMJ9uS"
      }
    },
    {
      "cell_type": "markdown",
      "source": [
        "## 3.1 Summarizing Text into Key Insights\n",
        "We will start by creating a function to summarize a block of text into key insights."
      ],
      "metadata": {
        "id": "Fy4X63b5J_d-"
      }
    },
    {
      "cell_type": "code",
      "source": [
        "def summarize_text_to_insights(text):\n",
        "    # Create a prompt to summarize the text into key insights\n",
        "    prompt = f\"Summarize the following text into key insights:\\n\\n{text}\\n\\nProvide the insights in bullet points.\"\n",
        "\n",
        "    # Call the Azure OpenAI API with the prompt\n",
        "    response = openai.Completion.create(\n",
        "        engine=\"gpt-4\",  # Specify the language model\n",
        "        prompt=prompt,  # Pass the prompt to the model\n",
        "        max_tokens=150,  # Limit the response length\n",
        "        n=1,  # Generate a single response\n",
        "        stop=None,  # Don't stop the generation prematurely\n",
        "        temperature=0.5  # Slightly higher temperature for insightful summarization\n",
        "    )\n",
        "\n",
        "    # Extract the insights from the response\n",
        "    insights = response.choices[0].text.strip()\n",
        "    return insights\n",
        "\n",
        "# Example usage\n",
        "text = \"The quarterly report shows a 10% increase in revenue, driven by strong sales in the tech sector. However, operational costs have also risen by 5%, impacting net profit margins.\"\n",
        "print(summarize_text_to_insights(text))\n"
      ],
      "metadata": {
        "id": "T4a-ybBoKAVs"
      },
      "execution_count": null,
      "outputs": []
    },
    {
      "cell_type": "markdown",
      "source": [
        "### **Explanation of the Code**\n",
        "- **Function Purpose:** The `summarize_text_to_insights` function is designed to distill unstructured text into key insights, which can be used for decision-making or reporting.\n",
        "- **Prompt Creation:** The prompt requests a summarization of the text into bullet-point insights, ensuring that the most important information is captured and clearly presented.\n",
        "- **API Call:** A moderate temperature (0.5) is used to allow for some creativity in generating insights while keeping the summary focused.\n",
        "- **Response Extraction:** The summarized insights are formatted into bullet points and returned as actionable data points.\n"
      ],
      "metadata": {
        "id": "oaxdTmZpKCPF"
      }
    },
    {
      "cell_type": "markdown",
      "source": [
        "## 3.2 Generating an Executive Summary\n",
        "Finally, we'll create a function to generate an executive summary from a larger block of text, which is a more condensed form of summarizing key points.\n"
      ],
      "metadata": {
        "id": "Y2k8oMT5KEds"
      }
    },
    {
      "cell_type": "code",
      "source": [
        "def generate_executive_summary(text):\n",
        "    # Create a prompt to generate an executive summary from the text\n",
        "    prompt = f\"Generate an executive summary for the following text:\\n\\n{text}\\n\\nThe summary should be concise and focus on the key takeaways.\"\n",
        "\n",
        "    # Call the Azure OpenAI API with the prompt\n",
        "    response = openai.Completion.create(\n",
        "        engine=\"gpt-4\",  # Specify the language model\n",
        "        prompt=prompt,  # Pass the prompt to the model\n",
        "        max_tokens=250,  # Limit the response length\n",
        "        n=1,  # Generate a single response\n",
        "        stop=None,  # Don't stop the generation prematurely\n",
        "        temperature=0.5  # Slightly higher temperature for balanced summarization\n",
        "    )\n",
        "\n",
        "    # Extract the executive summary from the response\n",
        "    summary = response.choices[0].text.strip()\n",
        "    return summary\n",
        "\n",
        "# Example usage\n",
        "text = \"\"\"The company has seen significant growth over the last quarter, with a 15% increase in overall sales. This growth is largely attributed to the launch of our new product line, which has been well-received by customers. However, there are concerns about supply chain disruptions, which have led to a 5% increase in production costs. The marketing team has also reported a higher engagement rate with the new advertising campaign, contributing to a 10% increase in brand awareness.\"\"\"\n",
        "print(generate_executive_summary(text))\n"
      ],
      "metadata": {
        "id": "lZaLtzUaKHOW"
      },
      "execution_count": null,
      "outputs": []
    },
    {
      "cell_type": "markdown",
      "source": [
        "### **Explanation of the Code**\n",
        "- **Function Purpose:** The `generate_executive_summary` function is designed to create a concise and informative executive summary from a larger block of text. This is especially useful for distilling complex information into a format that can be quickly understood by decision-makers.\n",
        "- **Prompt Creation:** The prompt directs the model to generate a concise summary focusing on the key takeaways, ensuring that only the most critical information is included.\n",
        "- **API Call:** The temperature is set to 0.5, balancing the need for creativity with the requirement for a focused summary.\n",
        "- **Response Extraction:** The final executive summary is extracted from the model’s response, cleaned up, and presented as a clear and concise overview of the text.\n"
      ],
      "metadata": {
        "id": "d1ya7KaJKJ4x"
      }
    },
    {
      "cell_type": "markdown",
      "source": [
        "# **Conclusion and Further Exploration**\n",
        "You've now successfully completed Lab 16, where you learned how to:\n",
        "1. Extract structured data from unstructured text, such as lists and key-value pairs.\n",
        "2. Convert unstructured text into actionable insights, including summaries and executive overviews.\n",
        "\n",
        "This lab provides a foundation for many practical applications. To further your understanding and skill set, consider exploring the following:\n",
        "- **Handling Different Text Sources:** Experiment with different types of text inputs, such as news articles, research papers, or social media posts.\n",
        "- **Exploring Advanced AI Capabilities:** Try using more advanced models or tweaking the parameters to see how they affect the quality and accuracy of the extracted data and insights.\n",
        "- **Integrating with Data Pipelines:** Consider how you can integrate these techniques into larger data pipelines for automated reporting or real-time data analysis.\n",
        "\n",
        "Happy exploring!\n"
      ],
      "metadata": {
        "id": "KD7kylW7KNBa"
      }
    }
  ]
}