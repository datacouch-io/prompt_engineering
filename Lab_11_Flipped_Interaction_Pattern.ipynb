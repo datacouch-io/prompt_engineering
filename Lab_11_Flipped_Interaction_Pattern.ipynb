{
  "nbformat": 4,
  "nbformat_minor": 0,
  "metadata": {
    "colab": {
      "provenance": []
    },
    "kernelspec": {
      "name": "python3",
      "display_name": "Python 3"
    },
    "language_info": {
      "name": "python"
    }
  },
  "cells": [
    {
      "cell_type": "markdown",
      "source": [
        "#Lab 11: Flipped Interaction Pattern"
      ],
      "metadata": {
        "id": "6bIoSN2B0C9l"
      }
    },
    {
      "cell_type": "markdown",
      "source": [
        "##Objectives\n",
        "\n"
      ],
      "metadata": {
        "id": "Co1LCJwRw-Q5"
      }
    },
    {
      "cell_type": "markdown",
      "source": [
        "\n",
        "By the end of this lab, participants will:\n",
        "\n",
        "\n",
        "\n",
        "*   Understand the concept of the Flipped Interaction Pattern in AI-driven conversations.\n",
        "*   Learn how to make an AI model ask questions to gather necessary information.\n",
        "*   Design and implement interactive prompts for complex decision-making scenarios.\n",
        "*   Evaluate the effectiveness of AI questioning in gathering user requirements."
      ],
      "metadata": {
        "id": "rt9P1CCSxQ6V"
      }
    },
    {
      "cell_type": "markdown",
      "source": [
        "## Introduction\n"
      ],
      "metadata": {
        "id": "7gedkBs-xSRG"
      }
    },
    {
      "cell_type": "markdown",
      "source": [
        "The Flipped Interaction Pattern is an advanced technique in human-computer interaction where the AI model takes a more active role in guiding the conversation. Instead of the user primarily asking questions, the model initiates questions to gather the necessary information. This approach is particularly useful in complex decision-making scenarios, where understanding user preferences and needs is crucial.\n",
        "\n",
        "In traditional interaction models, the user asks questions and the AI responds. However, this can sometimes lead to incomplete or ambiguous interactions, especially when the user is unsure of what they need. The Flipped Interaction Pattern addresses this by having the AI ask targeted questions to clarify and gather essential details, thus leading to more informed and effective decision-making.\n",
        "\n",
        "In this lab, participants will explore how to implement this pattern using a language model like GPT-3.5. They will create scenarios where the AI asks questions, analyze the interaction, and reflect on the benefits and challenges of this approach."
      ],
      "metadata": {
        "id": "UlKtsaj2xb1x"
      }
    },
    {
      "cell_type": "markdown",
      "source": [
        "##Step 1: Set Up the Environment\n",
        "Start by setting up the environment in Google Colab. This involves installing necessary libraries, importing them, and configuring the API key."
      ],
      "metadata": {
        "id": "PrEfidnixuUU"
      }
    },
    {
      "cell_type": "code",
      "execution_count": null,
      "metadata": {
        "id": "LNah4rKAw9bc"
      },
      "outputs": [],
      "source": [
        "# Install the OpenAI Python client library\n",
        "!pip install openai\n",
        "\n",
        "# Import the OpenAI library to interact with the API\n",
        "import openai\n",
        "\n",
        "# Set your OpenAI API key for authentication\n",
        "# Replace \"your-api-key-here\" with your actual API key\n",
        "openai.api_key = \"your-api-key-here\""
      ]
    },
    {
      "cell_type": "markdown",
      "source": [
        "##Step 2: Create a Function for Flipped Interaction\n",
        "Next, create a function that handles the interaction where the model asks questions to gather information.\n",
        "\n"
      ],
      "metadata": {
        "id": "DcOdldL-x5Yc"
      }
    },
    {
      "cell_type": "code",
      "source": [
        "def flipped_interaction(initial_prompt, max_turns=5):\n",
        "\n",
        "    # Start the conversation with a system message guiding the AI's behavior\n",
        "    conversation = [{\"role\": \"system\", \"content\": \"You are an AI assistant that asks questions to gather information.\"}]\n",
        "\n",
        "    # Add the user's initial prompt to the conversation\n",
        "    conversation.append({\"role\": \"user\", \"content\": initial_prompt})\n",
        "\n",
        "    # Loop to generate a series of interactions up to the specified number of turns\n",
        "    for _ in range(max_turns):\n",
        "        # Generate the AI's response based on the conversation so far\n",
        "        response = openai.ChatCompletion.create(\n",
        "            model=\"gpt-3.5-turbo\",  # The model used for generating the response\n",
        "            messages=conversation   # The conversation history provided to the model\n",
        "        )\n",
        "\n",
        "        # Extract the AI's message from the response\n",
        "        assistant_message = response['choices'][0]['message']['content']\n",
        "        print(\"AI: \", assistant_message)\n",
        "\n",
        "        # Capture user input in response to the AI's question\n",
        "        user_input = input(\"User: \")\n",
        "\n",
        "        # Add both the AI's message and the user's input to the conversation history\n",
        "        conversation.append({\"role\": \"assistant\", \"content\": assistant_message})\n",
        "        conversation.append({\"role\": \"user\", \"content\": user_input})\n",
        "\n",
        "        # If the user decides to stop, break out of the loop\n",
        "        if user_input.lower() in [\"exit\", \"stop\"]:\n",
        "            break\n",
        "\n",
        "    # Return the full conversation history\n",
        "    return conversation\n"
      ],
      "metadata": {
        "id": "YR2SySuRx8g4"
      },
      "execution_count": null,
      "outputs": []
    },
    {
      "cell_type": "markdown",
      "source": [
        "####Explanation:\n",
        "This function initiates a flipped interaction pattern where the AI asks questions to gather information.\n",
        "   \n",
        "Parameters:\n",
        "\n",
        "initial_prompt: The starting prompt from the user that initiates the interaction.\n",
        "\n",
        "max_turns: The maximum number of interactions (or \"turns\") between the user and the AI. This limits the length of the conversation.\n",
        "\n",
        "Key Sections:\n",
        "\n",
        "conversation: A list that stores the history of the conversation. It starts with a system message that defines the AI's role, followed by the user's initial prompt.\n",
        "\n",
        "for _ in range(max_turns): This loop controls the interaction, repeating until the maximum number of turns is reached.\n",
        "\n",
        "response = openai.ChatCompletion.create(...): This is the API call that generates the AI's response based on the conversation history. The model parameter specifies which version of the model to use.\n",
        "\n",
        "assistant_message = response['choices'][0]['message']['content']: This extracts the text of the AI's response from the API's output.\n",
        "\n",
        "user_input = input(\"User: \"): This captures the user's input in response to the AI's question.\n",
        "\n",
        "The conversation continues until the user types \"exit\" or \"stop\"."
      ],
      "metadata": {
        "id": "F04Uz8IWyFhZ"
      }
    },
    {
      "cell_type": "markdown",
      "source": [
        "##Step 3: Test the Function with a Scenario\n",
        "Test the flipped interaction pattern with a simple scenario where the AI helps the user decide on a vacation destination."
      ],
      "metadata": {
        "id": "midHFqFKy4dC"
      }
    },
    {
      "cell_type": "code",
      "source": [
        "# Define an initial prompt where the user is uncertain about where to go for a vacation\n",
        "initial_prompt = \"I want to plan a vacation, but I'm not sure where to go.\"\n",
        "\n",
        "# Call the flipped_interaction function to start the conversation\n",
        "conversation = flipped_interaction(initial_prompt)\n"
      ],
      "metadata": {
        "id": "gvnqDU8uyqgB"
      },
      "execution_count": null,
      "outputs": []
    },
    {
      "cell_type": "markdown",
      "source": [
        "####Explanation:\n",
        "\n",
        "'initial_prompt': The initial statement from the user that will be used to kickstart the conversation. In this case, the user is uncertain about where to go for a vacation.\n",
        "\n",
        "conversation = flipped_interaction(initial_prompt): This line calls the flipped_interaction function with the given prompt, starting the AI-driven conversation."
      ],
      "metadata": {
        "id": "DC-TJrzLzG29"
      }
    },
    {
      "cell_type": "markdown",
      "source": [
        "##Step 4: Design Complex Decision-Making Prompts\n",
        "For more complex scenarios, modify the prompt to involve more intricate decision-making processes, like choosing a car model.\n",
        "\n"
      ],
      "metadata": {
        "id": "2wTIV6lazN_7"
      }
    },
    {
      "cell_type": "code",
      "source": [
        "# Define a complex decision-making prompt where the user needs help deciding on a car model\n",
        "complex_prompt = \"I'm considering buying a new car, but I'm not sure which model suits me best. Can you help me decide?\"\n",
        "\n",
        "# Start the flipped interaction with the complex prompt\n",
        "conversation = flipped_interaction(complex_prompt)\n"
      ],
      "metadata": {
        "id": "J4EEoPz5zSrX"
      },
      "execution_count": null,
      "outputs": []
    },
    {
      "cell_type": "markdown",
      "source": [
        "####Explanation:\n",
        "'complex_prompt': This is a more intricate scenario where the AI needs to ask multiple questions to help the user make a well-informed decision about which car to buy.\n",
        "\n",
        "The process is the same as before, but the complexity of the decision requires the AI to gather more detailed information from the user."
      ],
      "metadata": {
        "id": "Jhve3M7vzXzi"
      }
    },
    {
      "cell_type": "markdown",
      "source": [
        "##Step 5: Analyze and Discuss the Interaction\n",
        "\n",
        "After running the interaction, review the conversation to understand how well the AI gathered information and guided the decision-making process."
      ],
      "metadata": {
        "id": "xF2wxrjh0duU"
      }
    },
    {
      "cell_type": "code",
      "source": [
        "# Loop through each message in the conversation and print it out for analysis\n",
        "for turn in conversation:\n",
        "    print(f\"{turn['role']}: {turn['content']}\")\n"
      ],
      "metadata": {
        "id": "GLcFhtkvzcDU"
      },
      "execution_count": null,
      "outputs": []
    },
    {
      "cell_type": "markdown",
      "source": [
        "####Explanation:\n",
        "\n",
        "This loop iterates over each turn in the conversation history and prints out the role (user or assistant) and the corresponding message.\n",
        "This step allows students to analyze how the AI interacted with the user and how effective its questions were in gathering necessary information."
      ],
      "metadata": {
        "id": "6YCQjSQk0qZZ"
      }
    },
    {
      "cell_type": "markdown",
      "source": [
        "##Conclusion\n",
        "In this lab, participants learned how to implement the Flipped Interaction Pattern, allowing an AI model to ask questions and gather necessary information for decision-making. This method enhances the interaction by ensuring that the AI collects relevant details, leading to more accurate and personalized outcomes.\n",
        "\n",
        "Through practical examples and scenarios, participants observed how the model's questioning technique could be fine-tuned for various decision-making processes. They also reflected on the effectiveness of this interaction pattern and considered how it could be applied in real-world applications.\n",
        "\n",
        "This lab demonstrates the potential of AI-driven conversations to shift from passive responses to active engagement, paving the way for more intelligent and user-centric systems.\n",
        "\n"
      ],
      "metadata": {
        "id": "ALj0M4x40vna"
      }
    }
  ]
}