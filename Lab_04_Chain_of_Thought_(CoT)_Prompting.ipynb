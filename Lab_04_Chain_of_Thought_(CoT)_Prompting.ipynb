{
  "cells": [
    {
      "cell_type": "markdown",
      "metadata": {
        "id": "29wptg9-mFsm"
      },
      "source": [
        "# Lab 4: Chain of Thought (CoT) Prompting\n",
        "\n",
        "Welcome to Lab 4! Chain of Thought (CoT) Prompting. In this lab, you will explore the technique of Chain of Thought (CoT) prompting, which involves breaking down complex tasks into sequential steps. This approach helps guide the AI through a logical reasoning process, improving its ability to solve complex problems. By the end of this lab, you will understand how to craft CoT prompts and analyze their impact on the model’s reasoning capabilities.\n",
        "\n",
        "\n",
        "\n",
        "**Why This Matters:**\n",
        "CoT prompting is particularly valuable for tasks that require reasoning, multi-step logic, or complex problem-solving. By guiding the AI through a step-by-step process, you can improve its accuracy and the quality of its responses, especially for tasks that involve multiple layers of decision-making.\n",
        "\n",
        "**Learning Objectives:**\n",
        "- **Break Down Complex Tasks:** Learn how to craft prompts that break down complex tasks into sequential, logical steps.\n",
        "- **Enhance Model Reasoning:** Understand how CoT prompting improves the model’s ability to reason and solve problems.\n",
        "- **Analyze CoT Impact:** Evaluate the effectiveness of CoT prompting in enhancing the quality and accuracy of AI outputs."
      ]
    },
    {
      "cell_type": "markdown",
      "metadata": {
        "id": "b1pzkAcRskbI"
      },
      "source": [
        "## Section 1: Breaking Down Complex Tasks into Sequential Steps\n",
        "\n",
        "In this section, you will learn how to break down a complex task into a series of logical steps that guide the AI through a Chain of Thought (CoT) process.\n",
        "\n",
        "\n",
        "**What is Chain of Thought (CoT) Prompting?**\n",
        "\n",
        "CoT prompting involves guiding the AI through a sequence of steps that mirror human reasoning. This technique is useful for tasks that require multiple layers of decision-making or logical deduction.\n",
        "\n",
        "**Example:**\n",
        "Let’s start with a simple math word problem. Instead of asking the AI to provide the answer directly, we’ll guide it through the problem step by step.\n"
      ]
    },
    {
      "cell_type": "code",
      "execution_count": null,
      "metadata": {
        "id": "AXrT_keqmFsr"
      },
      "outputs": [],
      "source": [
        "import openai\n",
        "\n",
        "# Store your OpenAI API key\n",
        "openai.api_key = \"your-api-key-here\"\n",
        "\n",
        "# Chain of Thought (CoT) prompt example\n",
        "prompt = \"\"\"\n",
        "Let's solve the following math word problem step by step:\n",
        "Problem: Jane has 12 apples. She gives 4 apples to her friend and then buys 3 more apples. How many apples does Jane have now?\n",
        "\n",
        "Step 1: Start with the number of apples Jane originally has.\n",
        "Step 2: Subtract the number of apples she gives away.\n",
        "Step 3: Add the number of apples she buys.\n",
        "Step 4: Calculate the final number of apples Jane has.\n",
        "\"\"\"\n",
        "\n",
        "response = openai.Completion.create(\n",
        "    engine=\"gpt-4\",\n",
        "    prompt=prompt,\n",
        "    max_tokens=50\n",
        ").choices[0].text.strip()\n",
        "\n",
        "print(\"CoT Response:\", response)\n"
      ]
    },
    {
      "cell_type": "markdown",
      "metadata": {
        "id": "4xgVvcRomFss"
      },
      "source": [
        "## Exercise 1: Crafting CoT Prompts\n",
        "\n",
        "**Task:** Write a prompt that guides the AI through the steps of planning a vacation. Break down the task into logical steps, such as choosing a destination, setting a budget, and planning activities.\n",
        "\n",
        "**Prompt:**\n"
      ]
    },
    {
      "cell_type": "code",
      "execution_count": null,
      "metadata": {
        "id": "K5C1ipPitHXY"
      },
      "outputs": [],
      "source": [
        "# Your Chain of Thought (CoT) prompt\n",
        "prompt = \"\"\"\n",
        "Let's plan a vacation step by step:\n",
        "Step 1: Choose a destination that interests you.\n",
        "Step 2: Determine the budget for your vacation.\n",
        "Step 3: Decide on the length of your stay.\n",
        "Step 4: Plan the activities you want to do during the vacation.\n",
        "Step 5: Make the necessary travel arrangements, such as booking flights and accommodations.\n",
        "\"\"\"\n",
        "\n",
        "# Generating the response\n",
        "response = openai.Completion.create(\n",
        "    engine=\"gpt-4\",\n",
        "    prompt=prompt,\n",
        "    max_tokens=100\n",
        ").choices[0].text.strip()\n",
        "\n",
        "print(\"Response:\", response)"
      ]
    },
    {
      "cell_type": "markdown",
      "source": [
        "**Discussion:** How did the AI handle the sequential steps in your prompt? Did it logically follow the steps you provided? Discuss how breaking down the task helped the AI provide a more structured and coherent response."
      ],
      "metadata": {
        "id": "kMcV0gBOtWFn"
      }
    },
    {
      "cell_type": "markdown",
      "metadata": {
        "id": "qMozd6vHswzH"
      },
      "source": [
        "## Section 2: Analyzing How CoT Improves Reasoning in Models\n",
        "\n",
        "In this section, you will explore how CoT prompting can enhance the AI model’s reasoning abilities, especially for tasks that require logical deductions or multi-step solutions.\n",
        "\n",
        "**Why CoT Improves Reasoning:**\n",
        "\n",
        "CoT prompting helps the AI think through a problem systematically, which reduces errors and improves the accuracy of its responses. By guiding the AI through each step, you can ensure that it considers all necessary factors before arriving at a final answer.\n",
        "\n",
        "**Example:** Let’s look at a logic puzzle. We’ll guide the AI through the reasoning process to ensure it reaches the correct conclusion.\n"
      ]
    },
    {
      "cell_type": "code",
      "execution_count": null,
      "metadata": {
        "id": "zNpJjtGpmFss"
      },
      "outputs": [],
      "source": [
        "# CoT prompt for a logic puzzle\n",
        "prompt = \"\"\"\n",
        "Let's solve the following logic puzzle step by step:\n",
        "Puzzle: There are three boxes. One contains only apples, one contains only oranges, and one contains both. The boxes are labeled, but all labels are incorrect. You are allowed to pick one fruit from one box. How can you correctly label all the boxes?\n",
        "\n",
        "Step 1: Identify which box to choose a fruit from first.\n",
        "Step 2: Analyze the possible outcomes of choosing a fruit from that box.\n",
        "Step 3: Determine the correct labels based on the outcome.\n",
        "Step 4: Explain your reasoning.\n",
        "\"\"\"\n",
        "\n",
        "response = openai.Completion.create(\n",
        "    engine=\"gpt-4\",\n",
        "    prompt=prompt,\n",
        "    max_tokens=150\n",
        ").choices[0].text.strip()\n",
        "\n",
        "print(\"CoT Response:\", response)\n"
      ]
    },
    {
      "cell_type": "markdown",
      "metadata": {
        "id": "cCcnV1QimFst"
      },
      "source": [
        "### Exercise 2: Enhancing Reasoning with CoT Prompts\n",
        "\n",
        "**Task:** Create a CoT prompt for solving a mystery involving three suspects with different motives and alibis. Guide the AI through the process of analyzing the evidence and eliminating suspects one by one.\n",
        "\n",
        "**Your Prompt:**"
      ]
    },
    {
      "cell_type": "code",
      "execution_count": null,
      "metadata": {
        "id": "FUYWI2tCmFst"
      },
      "outputs": [],
      "source": [
        "# Your CoT prompt\n",
        "prompt = \"\"\"\n",
        "Let's solve the mystery step by step:\n",
        "Mystery: A valuable painting has been stolen from a museum. Three suspects were seen near the museum around the time of the theft. Each suspect has a motive, and each has an alibi. Use the following steps to determine the culprit.\n",
        "\n",
        "Step 1: List the suspects and their motives.\n",
        "Step 2: Evaluate the alibis of each suspect.\n",
        "Step 3: Cross-check the alibis with witness statements.\n",
        "Step 4: Eliminate suspects whose alibis are solid.\n",
        "Step 5: Identify the most likely suspect based on the remaining evidence.\n",
        "Step 6: Explain your reasoning and conclusion.\n",
        "\"\"\"\n",
        "\n",
        "# Generating the response\n",
        "response = openai.Completion.create(\n",
        "    engine=\"gpt-4\",\n",
        "    prompt=prompt,\n",
        "    max_tokens=150\n",
        ").choices[0].text.strip()\n",
        "\n",
        "print(\"Response:\", response)\n"
      ]
    },
    {
      "cell_type": "markdown",
      "metadata": {
        "id": "iIKuHKkmmFst"
      },
      "source": [
        "### Discussion:\n",
        "\n",
        "Did the AI correctly follow the reasoning process you outlined? How did CoT prompting improve its ability to solve the mystery? Discuss how guiding the AI through sequential steps helped it make more accurate and logical decisions."
      ]
    },
    {
      "cell_type": "markdown",
      "metadata": {
        "id": "jqF-whKwmFsu"
      },
      "source": [
        "## Section 3: Evaluating CoT Effectiveness\n",
        "\n",
        "Now that you’ve explored CoT prompting, it’s time to evaluate how effectively this technique enhances the AI’s reasoning abilities.\n",
        "\n",
        "### Evaluation Criteria:\n",
        "\n",
        "- **Logical Flow:** Does the AI follow a clear and logical sequence in its reasoning?\n",
        "- **Accuracy:** How accurately does the AI arrive at the correct conclusion or solution?\n",
        "- **Comprehensiveness:** Does the AI consider all relevant factors and steps in its reasoning process?\n",
        "\n",
        "### Exercise 3: Evaluating CoT Prompts\n",
        "\n",
        "**Task:** Review the responses generated in the previous exercises. Rate each response based on logical flow, accuracy, and comprehensiveness. Share your evaluations with a partner or group.\n",
        "\n",
        "**Reflection:**\n",
        "Based on your evaluations, how well did the AI perform with CoT prompting? What were its strengths and weaknesses? How could you adjust your prompts to improve the AI’s reasoning abilities even further?"
      ]
    },
    {
      "cell_type": "markdown",
      "metadata": {
        "id": "hlhC7umgmFsw"
      },
      "source": [
        "## Section 4: Best Practices for Chain of Thought Prompting\n",
        "\n",
        "As you continue to refine your CoT prompting skills, keep these best practices in mind:\n",
        "\n",
        "- **Clear Steps:** Ensure each step in the CoT is clearly defined and logically connected.\n",
        "- **Simplify Complex Problems:** Break down complex problems into manageable parts to guide the AI effectively.\n",
        "- **Iterate and Adjust:** Continuously refine your CoT prompts based on the AI’s performance and the complexity of the task.\n",
        "\n"
      ]
    },
    {
      "cell_type": "markdown",
      "metadata": {
        "id": "0P5xGsiOmFsw"
      },
      "source": [
        "### Interactive Quiz:\n",
        "\n",
        "Test your understanding of CoT prompting with the following quiz questions:\n",
        "- What is the main benefit of using Chain of Thought (CoT) prompting?\n",
        "- How does CoT prompting enhance the AI’s reasoning capabilities?\n",
        "- What are key factors to consider when crafting a CoT prompt?\n"
      ]
    },
    {
      "cell_type": "markdown",
      "metadata": {
        "id": "i_BGTfi2mFsw"
      },
      "source": [
        "### Summary:\n",
        "\n",
        "Chain of Thought (CoT) prompting is a powerful tool for guiding the AI through complex tasks that require logical reasoning and multi-step solutions. By breaking down tasks into sequential steps, you can significantly improve the AI’s ability to reason and arrive at accurate conclusions.\n"
      ]
    },
    {
      "cell_type": "markdown",
      "metadata": {
        "id": "8GKZgy9bmFsw"
      },
      "source": [
        "## Conclusion and Next Steps\n",
        "\n",
        "Congratulations on completing Lab 4: Chain of Thought (CoT) Prompting! You’ve learned how to break down complex tasks into sequential steps, explored how CoT improves the AI’s reasoning, and evaluated the effectiveness of CoT prompting.\n",
        "\n",
        "\n",
        "**Key Takeaways:**\n",
        "- CoT prompting guides the AI through a logical reasoning process by breaking down complex tasks into steps.\n",
        "- This approach enhances the AI’s ability to solve problems accurately and systematically.\n",
        "- Evaluating the AI’s performance with CoT prompting helps you refine and optimize your prompts.\n",
        "\n",
        "**Next Steps:**\n",
        "- Continue practicing CoT prompting with increasingly complex tasks.\n",
        "- Explore combining CoT with few-shot or zero-shot prompting for more nuanced control.\n",
        "- Share your insights and results with peers to further enhance your prompt engineering skills.\n",
        "\n",
        "In the next lab, we’ll explore **Contextual Prompting**—where you’ll learn how to manage a dialogue or conversation with the AI over multiple exchanges."
      ]
    },
    {
      "cell_type": "markdown",
      "metadata": {
        "id": "x-PqWaQqmFsx"
      },
      "source": [
        "### Final Discussion:\n",
        "\n",
        "How has your understanding of Chain of Thought prompting evolved through this lab? What challenges did you encounter, and how did you overcome them? Share your experiences and insights with the class."
      ]
    }
  ],
  "metadata": {
    "language_info": {
      "name": "python"
    },
    "colab": {
      "provenance": []
    }
  },
  "nbformat": 4,
  "nbformat_minor": 0
}